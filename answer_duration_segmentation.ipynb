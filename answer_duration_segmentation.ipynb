{
 "cells": [
  {
   "cell_type": "code",
   "execution_count": 1,
   "metadata": {},
   "outputs": [],
   "source": [
    "# Import all needed libraries\n",
    "#! pip install google-cloud-bigquery\n",
    "from google.cloud import bigquery\n",
    "import pandas as pd\n",
    "import numpy as np\n",
    "import re\n",
    "from sqlalchemy import create_engine\n",
    "#from config import db_password"
   ]
  },
  {
   "cell_type": "code",
   "execution_count": 2,
   "metadata": {},
   "outputs": [],
   "source": [
    "import os\n",
    "os.environ[\"GOOGLE_APPLICATION_CREDENTIALS\"]=\"client_secret.json\""
   ]
  },
  {
   "cell_type": "code",
   "execution_count": 3,
   "metadata": {},
   "outputs": [],
   "source": [
    "client = bigquery.Client()"
   ]
  },
  {
   "cell_type": "code",
   "execution_count": 4,
   "metadata": {},
   "outputs": [
    {
     "data": {
      "text/plain": [
       "DatasetReference('bigquery-public-data', 'stackoverflow')"
      ]
     },
     "execution_count": 4,
     "metadata": {},
     "output_type": "execute_result"
    }
   ],
   "source": [
    "hn_dataset_ref = client.dataset('stackoverflow', project='bigquery-public-data')\n",
    "hn_dataset_ref"
   ]
  },
  {
   "cell_type": "code",
   "execution_count": 5,
   "metadata": {},
   "outputs": [
    {
     "data": {
      "text/plain": [
       "google.cloud.bigquery.dataset.DatasetReference"
      ]
     },
     "execution_count": 5,
     "metadata": {},
     "output_type": "execute_result"
    }
   ],
   "source": [
    "type(hn_dataset_ref)"
   ]
  },
  {
   "cell_type": "code",
   "execution_count": 6,
   "metadata": {},
   "outputs": [
    {
     "data": {
      "text/plain": [
       "Dataset(DatasetReference('bigquery-public-data', 'stackoverflow'))"
      ]
     },
     "execution_count": 6,
     "metadata": {},
     "output_type": "execute_result"
    }
   ],
   "source": [
    "hn_dset = client.get_dataset(hn_dataset_ref)\n",
    "hn_dset"
   ]
  },
  {
   "cell_type": "code",
   "execution_count": 7,
   "metadata": {},
   "outputs": [
    {
     "data": {
      "text/plain": [
       "google.cloud.bigquery.dataset.Dataset"
      ]
     },
     "execution_count": 7,
     "metadata": {},
     "output_type": "execute_result"
    }
   ],
   "source": [
    "type(hn_dset)"
   ]
  },
  {
   "cell_type": "code",
   "execution_count": 8,
   "metadata": {},
   "outputs": [
    {
     "data": {
      "text/plain": [
       "['badges',\n",
       " 'comments',\n",
       " 'post_history',\n",
       " 'post_links',\n",
       " 'posts_answers',\n",
       " 'posts_moderator_nomination',\n",
       " 'posts_orphaned_tag_wiki',\n",
       " 'posts_privilege_wiki',\n",
       " 'posts_questions',\n",
       " 'posts_tag_wiki',\n",
       " 'posts_tag_wiki_excerpt',\n",
       " 'posts_wiki_placeholder',\n",
       " 'stackoverflow_posts',\n",
       " 'tags',\n",
       " 'users',\n",
       " 'votes']"
      ]
     },
     "execution_count": 8,
     "metadata": {},
     "output_type": "execute_result"
    }
   ],
   "source": [
    "[x.table_id for x in client.list_tables(hn_dset)]"
   ]
  },
  {
   "cell_type": "code",
   "execution_count": 20,
   "metadata": {},
   "outputs": [
    {
     "data": {
      "text/html": [
       "<div>\n",
       "<style scoped>\n",
       "    .dataframe tbody tr th:only-of-type {\n",
       "        vertical-align: middle;\n",
       "    }\n",
       "\n",
       "    .dataframe tbody tr th {\n",
       "        vertical-align: top;\n",
       "    }\n",
       "\n",
       "    .dataframe thead th {\n",
       "        text-align: right;\n",
       "    }\n",
       "</style>\n",
       "<table border=\"1\" class=\"dataframe\">\n",
       "  <thead>\n",
       "    <tr style=\"text-align: right;\">\n",
       "      <th></th>\n",
       "      <th>q_id</th>\n",
       "      <th>q_title</th>\n",
       "      <th>q_body</th>\n",
       "      <th>accepted_answer_duration</th>\n",
       "      <th>answer_count</th>\n",
       "      <th>q_creation_date</th>\n",
       "      <th>q_favorite_count</th>\n",
       "      <th>q_score</th>\n",
       "      <th>q_tags</th>\n",
       "      <th>q_view_count</th>\n",
       "    </tr>\n",
       "  </thead>\n",
       "  <tbody>\n",
       "    <tr>\n",
       "      <th>0</th>\n",
       "      <td>68275244</td>\n",
       "      <td>None</td>\n",
       "      <td>&lt;p&gt;Using the &lt;code&gt;having&lt;/code&gt; method to add...</td>\n",
       "      <td>None</td>\n",
       "      <td>None</td>\n",
       "      <td>2021-07-06 17:47:13.723000+00:00</td>\n",
       "      <td>None</td>\n",
       "      <td>0</td>\n",
       "      <td>None</td>\n",
       "      <td>None</td>\n",
       "    </tr>\n",
       "    <tr>\n",
       "      <th>1</th>\n",
       "      <td>68280406</td>\n",
       "      <td>None</td>\n",
       "      <td>&lt;p&gt;Instead of using regex for something like t...</td>\n",
       "      <td>None</td>\n",
       "      <td>None</td>\n",
       "      <td>2021-07-07 05:15:11.670000+00:00</td>\n",
       "      <td>None</td>\n",
       "      <td>0</td>\n",
       "      <td>None</td>\n",
       "      <td>None</td>\n",
       "    </tr>\n",
       "    <tr>\n",
       "      <th>2</th>\n",
       "      <td>68284004</td>\n",
       "      <td>None</td>\n",
       "      <td>&lt;p&gt;Limiting function execution to a specific t...</td>\n",
       "      <td>None</td>\n",
       "      <td>None</td>\n",
       "      <td>2021-07-07 10:10:00.697000+00:00</td>\n",
       "      <td>None</td>\n",
       "      <td>0</td>\n",
       "      <td>None</td>\n",
       "      <td>None</td>\n",
       "    </tr>\n",
       "    <tr>\n",
       "      <th>3</th>\n",
       "      <td>68288673</td>\n",
       "      <td>None</td>\n",
       "      <td>&lt;p&gt;Consider the following example.&lt;/p&gt;\\n&lt;p&gt;&lt;di...</td>\n",
       "      <td>None</td>\n",
       "      <td>None</td>\n",
       "      <td>2021-07-07 15:14:27.567000+00:00</td>\n",
       "      <td>None</td>\n",
       "      <td>0</td>\n",
       "      <td>None</td>\n",
       "      <td>None</td>\n",
       "    </tr>\n",
       "    <tr>\n",
       "      <th>4</th>\n",
       "      <td>68293503</td>\n",
       "      <td>None</td>\n",
       "      <td>&lt;p&gt;Not entirely sure what you're asking for, a...</td>\n",
       "      <td>None</td>\n",
       "      <td>None</td>\n",
       "      <td>2021-07-07 22:14:29.997000+00:00</td>\n",
       "      <td>None</td>\n",
       "      <td>0</td>\n",
       "      <td>None</td>\n",
       "      <td>None</td>\n",
       "    </tr>\n",
       "    <tr>\n",
       "      <th>...</th>\n",
       "      <td>...</td>\n",
       "      <td>...</td>\n",
       "      <td>...</td>\n",
       "      <td>...</td>\n",
       "      <td>...</td>\n",
       "      <td>...</td>\n",
       "      <td>...</td>\n",
       "      <td>...</td>\n",
       "      <td>...</td>\n",
       "      <td>...</td>\n",
       "    </tr>\n",
       "    <tr>\n",
       "      <th>1427485</th>\n",
       "      <td>65858354</td>\n",
       "      <td>None</td>\n",
       "      <td>&lt;p&gt;Throw an error and put your response inside...</td>\n",
       "      <td>None</td>\n",
       "      <td>None</td>\n",
       "      <td>2021-01-23 10:55:05.233000+00:00</td>\n",
       "      <td>None</td>\n",
       "      <td>0</td>\n",
       "      <td>None</td>\n",
       "      <td>None</td>\n",
       "    </tr>\n",
       "    <tr>\n",
       "      <th>1427486</th>\n",
       "      <td>65865154</td>\n",
       "      <td>None</td>\n",
       "      <td>&lt;p&gt;Set the Content-Disposition header to &amp;quot...</td>\n",
       "      <td>None</td>\n",
       "      <td>None</td>\n",
       "      <td>2021-01-23 22:33:10.113000+00:00</td>\n",
       "      <td>None</td>\n",
       "      <td>0</td>\n",
       "      <td>None</td>\n",
       "      <td>None</td>\n",
       "    </tr>\n",
       "    <tr>\n",
       "      <th>1427487</th>\n",
       "      <td>65870399</td>\n",
       "      <td>None</td>\n",
       "      <td>&lt;p&gt;I work alot on react materializecss\\n&lt;a hre...</td>\n",
       "      <td>None</td>\n",
       "      <td>None</td>\n",
       "      <td>2021-01-24 12:14:43.543000+00:00</td>\n",
       "      <td>None</td>\n",
       "      <td>0</td>\n",
       "      <td>None</td>\n",
       "      <td>None</td>\n",
       "    </tr>\n",
       "    <tr>\n",
       "      <th>1427488</th>\n",
       "      <td>65875562</td>\n",
       "      <td>None</td>\n",
       "      <td>&lt;p&gt;I solved it by, removing the info part, cha...</td>\n",
       "      <td>None</td>\n",
       "      <td>None</td>\n",
       "      <td>2021-01-24 20:24:42.377000+00:00</td>\n",
       "      <td>None</td>\n",
       "      <td>0</td>\n",
       "      <td>None</td>\n",
       "      <td>None</td>\n",
       "    </tr>\n",
       "    <tr>\n",
       "      <th>1427489</th>\n",
       "      <td>65878934</td>\n",
       "      <td>None</td>\n",
       "      <td>&lt;p&gt;A good solution could be store the urls on ...</td>\n",
       "      <td>None</td>\n",
       "      <td>None</td>\n",
       "      <td>2021-01-25 04:20:22.223000+00:00</td>\n",
       "      <td>None</td>\n",
       "      <td>0</td>\n",
       "      <td>None</td>\n",
       "      <td>None</td>\n",
       "    </tr>\n",
       "  </tbody>\n",
       "</table>\n",
       "<p>1427490 rows × 10 columns</p>\n",
       "</div>"
      ],
      "text/plain": [
       "             q_id q_title                                             q_body  \\\n",
       "0        68275244    None  <p>Using the <code>having</code> method to add...   \n",
       "1        68280406    None  <p>Instead of using regex for something like t...   \n",
       "2        68284004    None  <p>Limiting function execution to a specific t...   \n",
       "3        68288673    None  <p>Consider the following example.</p>\\n<p><di...   \n",
       "4        68293503    None  <p>Not entirely sure what you're asking for, a...   \n",
       "...           ...     ...                                                ...   \n",
       "1427485  65858354    None  <p>Throw an error and put your response inside...   \n",
       "1427486  65865154    None  <p>Set the Content-Disposition header to &quot...   \n",
       "1427487  65870399    None  <p>I work alot on react materializecss\\n<a hre...   \n",
       "1427488  65875562    None  <p>I solved it by, removing the info part, cha...   \n",
       "1427489  65878934    None  <p>A good solution could be store the urls on ...   \n",
       "\n",
       "        accepted_answer_duration answer_count  \\\n",
       "0                           None         None   \n",
       "1                           None         None   \n",
       "2                           None         None   \n",
       "3                           None         None   \n",
       "4                           None         None   \n",
       "...                          ...          ...   \n",
       "1427485                     None         None   \n",
       "1427486                     None         None   \n",
       "1427487                     None         None   \n",
       "1427488                     None         None   \n",
       "1427489                     None         None   \n",
       "\n",
       "                         q_creation_date q_favorite_count  q_score q_tags  \\\n",
       "0       2021-07-06 17:47:13.723000+00:00             None        0   None   \n",
       "1       2021-07-07 05:15:11.670000+00:00             None        0   None   \n",
       "2       2021-07-07 10:10:00.697000+00:00             None        0   None   \n",
       "3       2021-07-07 15:14:27.567000+00:00             None        0   None   \n",
       "4       2021-07-07 22:14:29.997000+00:00             None        0   None   \n",
       "...                                  ...              ...      ...    ...   \n",
       "1427485 2021-01-23 10:55:05.233000+00:00             None        0   None   \n",
       "1427486 2021-01-23 22:33:10.113000+00:00             None        0   None   \n",
       "1427487 2021-01-24 12:14:43.543000+00:00             None        0   None   \n",
       "1427488 2021-01-24 20:24:42.377000+00:00             None        0   None   \n",
       "1427489 2021-01-25 04:20:22.223000+00:00             None        0   None   \n",
       "\n",
       "        q_view_count  \n",
       "0               None  \n",
       "1               None  \n",
       "2               None  \n",
       "3               None  \n",
       "4               None  \n",
       "...              ...  \n",
       "1427485         None  \n",
       "1427486         None  \n",
       "1427487         None  \n",
       "1427488         None  \n",
       "1427489         None  \n",
       "\n",
       "[1427490 rows x 10 columns]"
      ]
     },
     "execution_count": 20,
     "metadata": {},
     "output_type": "execute_result"
    }
   ],
   "source": [
    "# Exploring data in posts_questions by not answered\n",
    "# Pull only relevant columns to ML model\n",
    "query_job = client.query(\n",
    "        \"\"\"\n",
    "        SELECT\n",
    "        id, title, body, accepted_answer_id, answer_count, creation_date, favorite_count, score, tags, view_count\n",
    "        FROM `bigquery-public-data.stackoverflow.posts_answers`\n",
    "        WHERE creation_date > '2021-01-01'\n",
    "        ORDER BY accepted_answer_id\"\"\"\n",
    "    \n",
    "    \n",
    "    )\n",
    "\n",
    "results = query_job.result() \n",
    "results_list = [row for row in results]\n",
    "cols = ['q_id', 'q_title', 'q_body', 'accepted_answer_duration', 'answer_count', 'q_creation_date', 'q_favorite_count', 'q_score', 'q_tags', 'q_view_count']\n",
    "accepted_answer_df = pd.DataFrame.from_records(results_list, columns=cols)\n",
    "accepted_answer_df"
   ]
  },
  {
   "cell_type": "code",
   "execution_count": 21,
   "metadata": {},
   "outputs": [
    {
     "data": {
      "text/plain": [
       "1427490"
      ]
     },
     "execution_count": 21,
     "metadata": {},
     "output_type": "execute_result"
    }
   ],
   "source": [
    "len(accepted_answer_df)"
   ]
  },
  {
   "cell_type": "code",
   "execution_count": 22,
   "metadata": {},
   "outputs": [
    {
     "name": "stdout",
     "output_type": "stream",
     "text": [
      "nan\n",
      "nan\n"
     ]
    }
   ],
   "source": [
    "print(accepted_answer_df[\"answer_count\"].max())\n",
    "print(accepted_answer_df[\"answer_count\"].min())"
   ]
  },
  {
   "cell_type": "code",
   "execution_count": null,
   "metadata": {},
   "outputs": [],
   "source": []
  }
 ],
 "metadata": {
  "kernelspec": {
   "display_name": "Python 3",
   "language": "python",
   "name": "python3"
  },
  "language_info": {
   "codemirror_mode": {
    "name": "ipython",
    "version": 3
   },
   "file_extension": ".py",
   "mimetype": "text/x-python",
   "name": "python",
   "nbconvert_exporter": "python",
   "pygments_lexer": "ipython3",
   "version": "3.8.5"
  }
 },
 "nbformat": 4,
 "nbformat_minor": 4
}
