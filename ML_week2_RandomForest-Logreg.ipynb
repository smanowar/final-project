{
 "cells": [
  {
   "cell_type": "markdown",
   "metadata": {},
   "source": [
    "## Import dependencies and read csv"
   ]
  },
  {
   "cell_type": "code",
   "execution_count": 2,
   "metadata": {},
   "outputs": [],
   "source": [
    "import warnings\n",
    "import pickle\n",
    "warnings.filterwarnings('ignore')\n",
    "import numpy as np\n",
    "import pandas as pd\n",
    "from pathlib import Path\n",
    "from collections import Counter\n",
    "from sklearn.metrics import balanced_accuracy_score\n",
    "from sklearn.metrics import confusion_matrix\n",
    "from imblearn.metrics import classification_report_imbalanced\n",
    "from sklearn.ensemble import RandomForestClassifier"
   ]
  },
  {
   "cell_type": "code",
   "execution_count": 4,
   "metadata": {},
   "outputs": [],
   "source": [
    "file_path='Resources/ML_Input_Jan2021.csv'\n",
    "df=pd.read_csv(file_path)"
   ]
  },
  {
   "cell_type": "code",
   "execution_count": 5,
   "metadata": {},
   "outputs": [
    {
     "data": {
      "text/html": [
       "<div>\n",
       "<style scoped>\n",
       "    .dataframe tbody tr th:only-of-type {\n",
       "        vertical-align: middle;\n",
       "    }\n",
       "\n",
       "    .dataframe tbody tr th {\n",
       "        vertical-align: top;\n",
       "    }\n",
       "\n",
       "    .dataframe thead th {\n",
       "        text-align: right;\n",
       "    }\n",
       "</style>\n",
       "<table border=\"1\" class=\"dataframe\">\n",
       "  <thead>\n",
       "    <tr style=\"text-align: right;\">\n",
       "      <th></th>\n",
       "      <th>q_id</th>\n",
       "      <th>accepted_answer_id</th>\n",
       "      <th>q_score</th>\n",
       "      <th>q_score_tier</th>\n",
       "      <th>q_view_count</th>\n",
       "      <th>q_view_count_bin</th>\n",
       "      <th>q_title_char_count</th>\n",
       "      <th>q_title_char_count_bin</th>\n",
       "      <th>q_title_word_count</th>\n",
       "      <th>q_title_word_count_bin</th>\n",
       "      <th>q_body_word_count</th>\n",
       "      <th>q_body_len_bin</th>\n",
       "      <th>q_tags_count</th>\n",
       "      <th>q_day</th>\n",
       "      <th>q_hour</th>\n",
       "      <th>q_hour_min</th>\n",
       "      <th>accepted_answer_duration</th>\n",
       "    </tr>\n",
       "  </thead>\n",
       "  <tbody>\n",
       "    <tr>\n",
       "      <th>0</th>\n",
       "      <td>65526420</td>\n",
       "      <td>65526457</td>\n",
       "      <td>2</td>\n",
       "      <td>Positive Score (&gt;0)</td>\n",
       "      <td>62</td>\n",
       "      <td>50-16000</td>\n",
       "      <td>72</td>\n",
       "      <td>Medium (50-100)</td>\n",
       "      <td>13</td>\n",
       "      <td>Medium (10-20)</td>\n",
       "      <td>116</td>\n",
       "      <td>100-250</td>\n",
       "      <td>3</td>\n",
       "      <td>Friday</td>\n",
       "      <td>0</td>\n",
       "      <td>00:05</td>\n",
       "      <td>0.122066</td>\n",
       "    </tr>\n",
       "    <tr>\n",
       "      <th>1</th>\n",
       "      <td>65526423</td>\n",
       "      <td>65526533</td>\n",
       "      <td>2</td>\n",
       "      <td>Positive Score (&gt;0)</td>\n",
       "      <td>48</td>\n",
       "      <td>40-50</td>\n",
       "      <td>48</td>\n",
       "      <td>Short (0 - 50)</td>\n",
       "      <td>8</td>\n",
       "      <td>Short (0 - 10)</td>\n",
       "      <td>58</td>\n",
       "      <td>50-100</td>\n",
       "      <td>2</td>\n",
       "      <td>Friday</td>\n",
       "      <td>0</td>\n",
       "      <td>00:06</td>\n",
       "      <td>0.475172</td>\n",
       "    </tr>\n",
       "    <tr>\n",
       "      <th>2</th>\n",
       "      <td>65526490</td>\n",
       "      <td>65526541</td>\n",
       "      <td>2</td>\n",
       "      <td>Positive Score (&gt;0)</td>\n",
       "      <td>35</td>\n",
       "      <td>30-40</td>\n",
       "      <td>81</td>\n",
       "      <td>Medium (50-100)</td>\n",
       "      <td>13</td>\n",
       "      <td>Medium (10-20)</td>\n",
       "      <td>117</td>\n",
       "      <td>100-250</td>\n",
       "      <td>2</td>\n",
       "      <td>Friday</td>\n",
       "      <td>0</td>\n",
       "      <td>00:20</td>\n",
       "      <td>0.287423</td>\n",
       "    </tr>\n",
       "    <tr>\n",
       "      <th>3</th>\n",
       "      <td>65526419</td>\n",
       "      <td>65526554</td>\n",
       "      <td>3</td>\n",
       "      <td>Positive Score (&gt;0)</td>\n",
       "      <td>351</td>\n",
       "      <td>50-16000</td>\n",
       "      <td>76</td>\n",
       "      <td>Medium (50-100)</td>\n",
       "      <td>9</td>\n",
       "      <td>Short (0 - 10)</td>\n",
       "      <td>50</td>\n",
       "      <td>&lt;50</td>\n",
       "      <td>4</td>\n",
       "      <td>Friday</td>\n",
       "      <td>0</td>\n",
       "      <td>00:05</td>\n",
       "      <td>0.575997</td>\n",
       "    </tr>\n",
       "    <tr>\n",
       "      <th>4</th>\n",
       "      <td>65526523</td>\n",
       "      <td>65526577</td>\n",
       "      <td>2</td>\n",
       "      <td>Positive Score (&gt;0)</td>\n",
       "      <td>117</td>\n",
       "      <td>50-16000</td>\n",
       "      <td>82</td>\n",
       "      <td>Medium (50-100)</td>\n",
       "      <td>14</td>\n",
       "      <td>Medium (10-20)</td>\n",
       "      <td>305</td>\n",
       "      <td>250-500</td>\n",
       "      <td>3</td>\n",
       "      <td>Friday</td>\n",
       "      <td>0</td>\n",
       "      <td>00:30</td>\n",
       "      <td>0.253412</td>\n",
       "    </tr>\n",
       "  </tbody>\n",
       "</table>\n",
       "</div>"
      ],
      "text/plain": [
       "       q_id  accepted_answer_id  q_score         q_score_tier  q_view_count  \\\n",
       "0  65526420            65526457        2  Positive Score (>0)            62   \n",
       "1  65526423            65526533        2  Positive Score (>0)            48   \n",
       "2  65526490            65526541        2  Positive Score (>0)            35   \n",
       "3  65526419            65526554        3  Positive Score (>0)           351   \n",
       "4  65526523            65526577        2  Positive Score (>0)           117   \n",
       "\n",
       "  q_view_count_bin  q_title_char_count q_title_char_count_bin  \\\n",
       "0         50-16000                  72        Medium (50-100)   \n",
       "1            40-50                  48         Short (0 - 50)   \n",
       "2            30-40                  81        Medium (50-100)   \n",
       "3         50-16000                  76        Medium (50-100)   \n",
       "4         50-16000                  82        Medium (50-100)   \n",
       "\n",
       "   q_title_word_count q_title_word_count_bin  q_body_word_count  \\\n",
       "0                  13         Medium (10-20)                116   \n",
       "1                   8         Short (0 - 10)                 58   \n",
       "2                  13         Medium (10-20)                117   \n",
       "3                   9         Short (0 - 10)                 50   \n",
       "4                  14         Medium (10-20)                305   \n",
       "\n",
       "  q_body_len_bin  q_tags_count   q_day  q_hour q_hour_min  \\\n",
       "0        100-250             3  Friday       0      00:05   \n",
       "1         50-100             2  Friday       0      00:06   \n",
       "2        100-250             2  Friday       0      00:20   \n",
       "3            <50             4  Friday       0      00:05   \n",
       "4        250-500             3  Friday       0      00:30   \n",
       "\n",
       "   accepted_answer_duration  \n",
       "0                  0.122066  \n",
       "1                  0.475172  \n",
       "2                  0.287423  \n",
       "3                  0.575997  \n",
       "4                  0.253412  "
      ]
     },
     "execution_count": 5,
     "metadata": {},
     "output_type": "execute_result"
    }
   ],
   "source": [
    "df.head()"
   ]
  },
  {
   "cell_type": "markdown",
   "metadata": {},
   "source": [
    "## Data Preprocessing\n",
    "\n",
    "- Dropped null values and dropped uncessary columns\n",
    "- Binned data in accepted_answer_duration"
   ]
  },
  {
   "cell_type": "code",
   "execution_count": 6,
   "metadata": {},
   "outputs": [
    {
     "data": {
      "text/html": [
       "<div>\n",
       "<style scoped>\n",
       "    .dataframe tbody tr th:only-of-type {\n",
       "        vertical-align: middle;\n",
       "    }\n",
       "\n",
       "    .dataframe tbody tr th {\n",
       "        vertical-align: top;\n",
       "    }\n",
       "\n",
       "    .dataframe thead th {\n",
       "        text-align: right;\n",
       "    }\n",
       "</style>\n",
       "<table border=\"1\" class=\"dataframe\">\n",
       "  <thead>\n",
       "    <tr style=\"text-align: right;\">\n",
       "      <th></th>\n",
       "      <th>q_score_tier</th>\n",
       "      <th>q_view_count_bin</th>\n",
       "      <th>q_title_char_count</th>\n",
       "      <th>q_title_char_count_bin</th>\n",
       "      <th>q_title_word_count</th>\n",
       "      <th>q_title_word_count_bin</th>\n",
       "      <th>q_body_word_count</th>\n",
       "      <th>q_tags_count</th>\n",
       "      <th>q_day</th>\n",
       "      <th>q_hour</th>\n",
       "      <th>accepted_answer_duration</th>\n",
       "    </tr>\n",
       "  </thead>\n",
       "  <tbody>\n",
       "    <tr>\n",
       "      <th>0</th>\n",
       "      <td>Positive Score (&gt;0)</td>\n",
       "      <td>50-16000</td>\n",
       "      <td>72</td>\n",
       "      <td>Medium (50-100)</td>\n",
       "      <td>13</td>\n",
       "      <td>Medium (10-20)</td>\n",
       "      <td>116</td>\n",
       "      <td>3</td>\n",
       "      <td>Friday</td>\n",
       "      <td>0</td>\n",
       "      <td>0.122066</td>\n",
       "    </tr>\n",
       "    <tr>\n",
       "      <th>1</th>\n",
       "      <td>Positive Score (&gt;0)</td>\n",
       "      <td>40-50</td>\n",
       "      <td>48</td>\n",
       "      <td>Short (0 - 50)</td>\n",
       "      <td>8</td>\n",
       "      <td>Short (0 - 10)</td>\n",
       "      <td>58</td>\n",
       "      <td>2</td>\n",
       "      <td>Friday</td>\n",
       "      <td>0</td>\n",
       "      <td>0.475172</td>\n",
       "    </tr>\n",
       "    <tr>\n",
       "      <th>2</th>\n",
       "      <td>Positive Score (&gt;0)</td>\n",
       "      <td>30-40</td>\n",
       "      <td>81</td>\n",
       "      <td>Medium (50-100)</td>\n",
       "      <td>13</td>\n",
       "      <td>Medium (10-20)</td>\n",
       "      <td>117</td>\n",
       "      <td>2</td>\n",
       "      <td>Friday</td>\n",
       "      <td>0</td>\n",
       "      <td>0.287423</td>\n",
       "    </tr>\n",
       "    <tr>\n",
       "      <th>3</th>\n",
       "      <td>Positive Score (&gt;0)</td>\n",
       "      <td>50-16000</td>\n",
       "      <td>76</td>\n",
       "      <td>Medium (50-100)</td>\n",
       "      <td>9</td>\n",
       "      <td>Short (0 - 10)</td>\n",
       "      <td>50</td>\n",
       "      <td>4</td>\n",
       "      <td>Friday</td>\n",
       "      <td>0</td>\n",
       "      <td>0.575997</td>\n",
       "    </tr>\n",
       "    <tr>\n",
       "      <th>4</th>\n",
       "      <td>Positive Score (&gt;0)</td>\n",
       "      <td>50-16000</td>\n",
       "      <td>82</td>\n",
       "      <td>Medium (50-100)</td>\n",
       "      <td>14</td>\n",
       "      <td>Medium (10-20)</td>\n",
       "      <td>305</td>\n",
       "      <td>3</td>\n",
       "      <td>Friday</td>\n",
       "      <td>0</td>\n",
       "      <td>0.253412</td>\n",
       "    </tr>\n",
       "  </tbody>\n",
       "</table>\n",
       "</div>"
      ],
      "text/plain": [
       "          q_score_tier q_view_count_bin  q_title_char_count  \\\n",
       "0  Positive Score (>0)         50-16000                  72   \n",
       "1  Positive Score (>0)            40-50                  48   \n",
       "2  Positive Score (>0)            30-40                  81   \n",
       "3  Positive Score (>0)         50-16000                  76   \n",
       "4  Positive Score (>0)         50-16000                  82   \n",
       "\n",
       "  q_title_char_count_bin  q_title_word_count q_title_word_count_bin  \\\n",
       "0        Medium (50-100)                  13         Medium (10-20)   \n",
       "1         Short (0 - 50)                   8         Short (0 - 10)   \n",
       "2        Medium (50-100)                  13         Medium (10-20)   \n",
       "3        Medium (50-100)                   9         Short (0 - 10)   \n",
       "4        Medium (50-100)                  14         Medium (10-20)   \n",
       "\n",
       "   q_body_word_count  q_tags_count   q_day  q_hour  accepted_answer_duration  \n",
       "0                116             3  Friday       0                  0.122066  \n",
       "1                 58             2  Friday       0                  0.475172  \n",
       "2                117             2  Friday       0                  0.287423  \n",
       "3                 50             4  Friday       0                  0.575997  \n",
       "4                305             3  Friday       0                  0.253412  "
      ]
     },
     "execution_count": 6,
     "metadata": {},
     "output_type": "execute_result"
    }
   ],
   "source": [
    "#drop identification columns also q_hour_min and q_body_len_bin columns as they are redundant to other columns\n",
    "\n",
    "df=df.drop(['q_id','accepted_answer_id','q_hour_min','q_body_len_bin','q_score','q_view_count'], axis=1)\n",
    "df.head()"
   ]
  },
  {
   "cell_type": "code",
   "execution_count": 7,
   "metadata": {},
   "outputs": [],
   "source": [
    "df=df.dropna()"
   ]
  },
  {
   "cell_type": "code",
   "execution_count": 8,
   "metadata": {},
   "outputs": [],
   "source": [
    "#bin accepted_answer_duration\n",
    "\n",
    "answer_bins = [0, 24, 6000]\n",
    "answer_bins_group_names = [\"<1D\", \">1D\"]\n",
    "\n",
    "# Categorize score based on the bins.\n",
    "df['accepted_answer_duration_bin'] = pd.cut(df['accepted_answer_duration'], answer_bins, labels=answer_bins_group_names)"
   ]
  },
  {
   "cell_type": "code",
   "execution_count": 9,
   "metadata": {},
   "outputs": [
    {
     "data": {
      "text/html": [
       "<div>\n",
       "<style scoped>\n",
       "    .dataframe tbody tr th:only-of-type {\n",
       "        vertical-align: middle;\n",
       "    }\n",
       "\n",
       "    .dataframe tbody tr th {\n",
       "        vertical-align: top;\n",
       "    }\n",
       "\n",
       "    .dataframe thead th {\n",
       "        text-align: right;\n",
       "    }\n",
       "</style>\n",
       "<table border=\"1\" class=\"dataframe\">\n",
       "  <thead>\n",
       "    <tr style=\"text-align: right;\">\n",
       "      <th></th>\n",
       "      <th>q_score_tier</th>\n",
       "      <th>q_view_count_bin</th>\n",
       "      <th>q_title_char_count</th>\n",
       "      <th>q_title_char_count_bin</th>\n",
       "      <th>q_title_word_count</th>\n",
       "      <th>q_title_word_count_bin</th>\n",
       "      <th>q_body_word_count</th>\n",
       "      <th>q_tags_count</th>\n",
       "      <th>q_day</th>\n",
       "      <th>q_hour</th>\n",
       "      <th>accepted_answer_duration</th>\n",
       "      <th>accepted_answer_duration_bin</th>\n",
       "    </tr>\n",
       "  </thead>\n",
       "  <tbody>\n",
       "    <tr>\n",
       "      <th>0</th>\n",
       "      <td>Positive Score (&gt;0)</td>\n",
       "      <td>50-16000</td>\n",
       "      <td>72</td>\n",
       "      <td>Medium (50-100)</td>\n",
       "      <td>13</td>\n",
       "      <td>Medium (10-20)</td>\n",
       "      <td>116</td>\n",
       "      <td>3</td>\n",
       "      <td>Friday</td>\n",
       "      <td>0</td>\n",
       "      <td>0.122066</td>\n",
       "      <td>&lt;1D</td>\n",
       "    </tr>\n",
       "    <tr>\n",
       "      <th>1</th>\n",
       "      <td>Positive Score (&gt;0)</td>\n",
       "      <td>40-50</td>\n",
       "      <td>48</td>\n",
       "      <td>Short (0 - 50)</td>\n",
       "      <td>8</td>\n",
       "      <td>Short (0 - 10)</td>\n",
       "      <td>58</td>\n",
       "      <td>2</td>\n",
       "      <td>Friday</td>\n",
       "      <td>0</td>\n",
       "      <td>0.475172</td>\n",
       "      <td>&lt;1D</td>\n",
       "    </tr>\n",
       "    <tr>\n",
       "      <th>2</th>\n",
       "      <td>Positive Score (&gt;0)</td>\n",
       "      <td>30-40</td>\n",
       "      <td>81</td>\n",
       "      <td>Medium (50-100)</td>\n",
       "      <td>13</td>\n",
       "      <td>Medium (10-20)</td>\n",
       "      <td>117</td>\n",
       "      <td>2</td>\n",
       "      <td>Friday</td>\n",
       "      <td>0</td>\n",
       "      <td>0.287423</td>\n",
       "      <td>&lt;1D</td>\n",
       "    </tr>\n",
       "    <tr>\n",
       "      <th>3</th>\n",
       "      <td>Positive Score (&gt;0)</td>\n",
       "      <td>50-16000</td>\n",
       "      <td>76</td>\n",
       "      <td>Medium (50-100)</td>\n",
       "      <td>9</td>\n",
       "      <td>Short (0 - 10)</td>\n",
       "      <td>50</td>\n",
       "      <td>4</td>\n",
       "      <td>Friday</td>\n",
       "      <td>0</td>\n",
       "      <td>0.575997</td>\n",
       "      <td>&lt;1D</td>\n",
       "    </tr>\n",
       "    <tr>\n",
       "      <th>4</th>\n",
       "      <td>Positive Score (&gt;0)</td>\n",
       "      <td>50-16000</td>\n",
       "      <td>82</td>\n",
       "      <td>Medium (50-100)</td>\n",
       "      <td>14</td>\n",
       "      <td>Medium (10-20)</td>\n",
       "      <td>305</td>\n",
       "      <td>3</td>\n",
       "      <td>Friday</td>\n",
       "      <td>0</td>\n",
       "      <td>0.253412</td>\n",
       "      <td>&lt;1D</td>\n",
       "    </tr>\n",
       "  </tbody>\n",
       "</table>\n",
       "</div>"
      ],
      "text/plain": [
       "          q_score_tier q_view_count_bin  q_title_char_count  \\\n",
       "0  Positive Score (>0)         50-16000                  72   \n",
       "1  Positive Score (>0)            40-50                  48   \n",
       "2  Positive Score (>0)            30-40                  81   \n",
       "3  Positive Score (>0)         50-16000                  76   \n",
       "4  Positive Score (>0)         50-16000                  82   \n",
       "\n",
       "  q_title_char_count_bin  q_title_word_count q_title_word_count_bin  \\\n",
       "0        Medium (50-100)                  13         Medium (10-20)   \n",
       "1         Short (0 - 50)                   8         Short (0 - 10)   \n",
       "2        Medium (50-100)                  13         Medium (10-20)   \n",
       "3        Medium (50-100)                   9         Short (0 - 10)   \n",
       "4        Medium (50-100)                  14         Medium (10-20)   \n",
       "\n",
       "   q_body_word_count  q_tags_count   q_day  q_hour  accepted_answer_duration  \\\n",
       "0                116             3  Friday       0                  0.122066   \n",
       "1                 58             2  Friday       0                  0.475172   \n",
       "2                117             2  Friday       0                  0.287423   \n",
       "3                 50             4  Friday       0                  0.575997   \n",
       "4                305             3  Friday       0                  0.253412   \n",
       "\n",
       "  accepted_answer_duration_bin  \n",
       "0                          <1D  \n",
       "1                          <1D  \n",
       "2                          <1D  \n",
       "3                          <1D  \n",
       "4                          <1D  "
      ]
     },
     "execution_count": 9,
     "metadata": {},
     "output_type": "execute_result"
    }
   ],
   "source": [
    "df.head()"
   ]
  },
  {
   "cell_type": "code",
   "execution_count": 10,
   "metadata": {},
   "outputs": [
    {
     "data": {
      "text/plain": [
       "q_score_tier                      object\n",
       "q_view_count_bin                  object\n",
       "q_title_char_count                 int64\n",
       "q_title_char_count_bin            object\n",
       "q_title_word_count                 int64\n",
       "q_title_word_count_bin            object\n",
       "q_body_word_count                  int64\n",
       "q_tags_count                       int64\n",
       "q_day                             object\n",
       "q_hour                             int64\n",
       "accepted_answer_duration         float64\n",
       "accepted_answer_duration_bin    category\n",
       "dtype: object"
      ]
     },
     "execution_count": 10,
     "metadata": {},
     "output_type": "execute_result"
    }
   ],
   "source": [
    "df.dtypes"
   ]
  },
  {
   "cell_type": "markdown",
   "metadata": {},
   "source": [
    "## Create features and encode our features using pd.get_dummies"
   ]
  },
  {
   "cell_type": "code",
   "execution_count": 11,
   "metadata": {},
   "outputs": [
    {
     "data": {
      "text/html": [
       "<div>\n",
       "<style scoped>\n",
       "    .dataframe tbody tr th:only-of-type {\n",
       "        vertical-align: middle;\n",
       "    }\n",
       "\n",
       "    .dataframe tbody tr th {\n",
       "        vertical-align: top;\n",
       "    }\n",
       "\n",
       "    .dataframe thead th {\n",
       "        text-align: right;\n",
       "    }\n",
       "</style>\n",
       "<table border=\"1\" class=\"dataframe\">\n",
       "  <thead>\n",
       "    <tr style=\"text-align: right;\">\n",
       "      <th></th>\n",
       "      <th>q_title_char_count</th>\n",
       "      <th>q_title_word_count</th>\n",
       "      <th>q_body_word_count</th>\n",
       "      <th>q_tags_count</th>\n",
       "      <th>q_hour</th>\n",
       "      <th>q_score_tier_Negative Score (&lt;0)</th>\n",
       "      <th>q_score_tier_Positive Score (&gt;0)</th>\n",
       "      <th>q_score_tier_Zero Score (0)</th>\n",
       "      <th>q_view_count_bin_10-20</th>\n",
       "      <th>q_view_count_bin_20-30</th>\n",
       "      <th>...</th>\n",
       "      <th>q_title_word_count_bin_Medium (10-20)</th>\n",
       "      <th>q_title_word_count_bin_Short (0 - 10)</th>\n",
       "      <th>q_title_word_count_bin_XL (30+)</th>\n",
       "      <th>q_day_Friday</th>\n",
       "      <th>q_day_Monday</th>\n",
       "      <th>q_day_Saturday</th>\n",
       "      <th>q_day_Sunday</th>\n",
       "      <th>q_day_Thursday</th>\n",
       "      <th>q_day_Tuesday</th>\n",
       "      <th>q_day_Wednesday</th>\n",
       "    </tr>\n",
       "  </thead>\n",
       "  <tbody>\n",
       "    <tr>\n",
       "      <th>0</th>\n",
       "      <td>72</td>\n",
       "      <td>13</td>\n",
       "      <td>116</td>\n",
       "      <td>3</td>\n",
       "      <td>0</td>\n",
       "      <td>0</td>\n",
       "      <td>1</td>\n",
       "      <td>0</td>\n",
       "      <td>0</td>\n",
       "      <td>0</td>\n",
       "      <td>...</td>\n",
       "      <td>1</td>\n",
       "      <td>0</td>\n",
       "      <td>0</td>\n",
       "      <td>1</td>\n",
       "      <td>0</td>\n",
       "      <td>0</td>\n",
       "      <td>0</td>\n",
       "      <td>0</td>\n",
       "      <td>0</td>\n",
       "      <td>0</td>\n",
       "    </tr>\n",
       "    <tr>\n",
       "      <th>1</th>\n",
       "      <td>48</td>\n",
       "      <td>8</td>\n",
       "      <td>58</td>\n",
       "      <td>2</td>\n",
       "      <td>0</td>\n",
       "      <td>0</td>\n",
       "      <td>1</td>\n",
       "      <td>0</td>\n",
       "      <td>0</td>\n",
       "      <td>0</td>\n",
       "      <td>...</td>\n",
       "      <td>0</td>\n",
       "      <td>1</td>\n",
       "      <td>0</td>\n",
       "      <td>1</td>\n",
       "      <td>0</td>\n",
       "      <td>0</td>\n",
       "      <td>0</td>\n",
       "      <td>0</td>\n",
       "      <td>0</td>\n",
       "      <td>0</td>\n",
       "    </tr>\n",
       "    <tr>\n",
       "      <th>2</th>\n",
       "      <td>81</td>\n",
       "      <td>13</td>\n",
       "      <td>117</td>\n",
       "      <td>2</td>\n",
       "      <td>0</td>\n",
       "      <td>0</td>\n",
       "      <td>1</td>\n",
       "      <td>0</td>\n",
       "      <td>0</td>\n",
       "      <td>0</td>\n",
       "      <td>...</td>\n",
       "      <td>1</td>\n",
       "      <td>0</td>\n",
       "      <td>0</td>\n",
       "      <td>1</td>\n",
       "      <td>0</td>\n",
       "      <td>0</td>\n",
       "      <td>0</td>\n",
       "      <td>0</td>\n",
       "      <td>0</td>\n",
       "      <td>0</td>\n",
       "    </tr>\n",
       "    <tr>\n",
       "      <th>3</th>\n",
       "      <td>76</td>\n",
       "      <td>9</td>\n",
       "      <td>50</td>\n",
       "      <td>4</td>\n",
       "      <td>0</td>\n",
       "      <td>0</td>\n",
       "      <td>1</td>\n",
       "      <td>0</td>\n",
       "      <td>0</td>\n",
       "      <td>0</td>\n",
       "      <td>...</td>\n",
       "      <td>0</td>\n",
       "      <td>1</td>\n",
       "      <td>0</td>\n",
       "      <td>1</td>\n",
       "      <td>0</td>\n",
       "      <td>0</td>\n",
       "      <td>0</td>\n",
       "      <td>0</td>\n",
       "      <td>0</td>\n",
       "      <td>0</td>\n",
       "    </tr>\n",
       "    <tr>\n",
       "      <th>4</th>\n",
       "      <td>82</td>\n",
       "      <td>14</td>\n",
       "      <td>305</td>\n",
       "      <td>3</td>\n",
       "      <td>0</td>\n",
       "      <td>0</td>\n",
       "      <td>1</td>\n",
       "      <td>0</td>\n",
       "      <td>0</td>\n",
       "      <td>0</td>\n",
       "      <td>...</td>\n",
       "      <td>1</td>\n",
       "      <td>0</td>\n",
       "      <td>0</td>\n",
       "      <td>1</td>\n",
       "      <td>0</td>\n",
       "      <td>0</td>\n",
       "      <td>0</td>\n",
       "      <td>0</td>\n",
       "      <td>0</td>\n",
       "      <td>0</td>\n",
       "    </tr>\n",
       "  </tbody>\n",
       "</table>\n",
       "<p>5 rows × 25 columns</p>\n",
       "</div>"
      ],
      "text/plain": [
       "   q_title_char_count  q_title_word_count  q_body_word_count  q_tags_count  \\\n",
       "0                  72                  13                116             3   \n",
       "1                  48                   8                 58             2   \n",
       "2                  81                  13                117             2   \n",
       "3                  76                   9                 50             4   \n",
       "4                  82                  14                305             3   \n",
       "\n",
       "   q_hour  q_score_tier_Negative Score (<0)  q_score_tier_Positive Score (>0)  \\\n",
       "0       0                                 0                                 1   \n",
       "1       0                                 0                                 1   \n",
       "2       0                                 0                                 1   \n",
       "3       0                                 0                                 1   \n",
       "4       0                                 0                                 1   \n",
       "\n",
       "   q_score_tier_Zero Score (0)  q_view_count_bin_10-20  \\\n",
       "0                            0                       0   \n",
       "1                            0                       0   \n",
       "2                            0                       0   \n",
       "3                            0                       0   \n",
       "4                            0                       0   \n",
       "\n",
       "   q_view_count_bin_20-30  ...  q_title_word_count_bin_Medium (10-20)  \\\n",
       "0                       0  ...                                      1   \n",
       "1                       0  ...                                      0   \n",
       "2                       0  ...                                      1   \n",
       "3                       0  ...                                      0   \n",
       "4                       0  ...                                      1   \n",
       "\n",
       "   q_title_word_count_bin_Short (0 - 10)  q_title_word_count_bin_XL (30+)  \\\n",
       "0                                      0                                0   \n",
       "1                                      1                                0   \n",
       "2                                      0                                0   \n",
       "3                                      1                                0   \n",
       "4                                      0                                0   \n",
       "\n",
       "   q_day_Friday  q_day_Monday  q_day_Saturday  q_day_Sunday  q_day_Thursday  \\\n",
       "0             1             0               0             0               0   \n",
       "1             1             0               0             0               0   \n",
       "2             1             0               0             0               0   \n",
       "3             1             0               0             0               0   \n",
       "4             1             0               0             0               0   \n",
       "\n",
       "   q_day_Tuesday  q_day_Wednesday  \n",
       "0              0                0  \n",
       "1              0                0  \n",
       "2              0                0  \n",
       "3              0                0  \n",
       "4              0                0  \n",
       "\n",
       "[5 rows x 25 columns]"
      ]
     },
     "execution_count": 11,
     "metadata": {},
     "output_type": "execute_result"
    }
   ],
   "source": [
    "# Create our features\n",
    "X = df.drop(['accepted_answer_duration','accepted_answer_duration_bin','q_title_char_count_bin'], axis=1)\n",
    "X = pd.get_dummies(X)\n",
    "\n",
    "# Create our target\n",
    "\n",
    "y = df[\"accepted_answer_duration_bin\"]\n",
    "\n",
    "X.head()"
   ]
  },
  {
   "cell_type": "code",
   "execution_count": 12,
   "metadata": {},
   "outputs": [
    {
     "data": {
      "text/plain": [
       "<1D    386440\n",
       ">1D     60979\n",
       "Name: accepted_answer_duration_bin, dtype: int64"
      ]
     },
     "execution_count": 12,
     "metadata": {},
     "output_type": "execute_result"
    }
   ],
   "source": [
    "# Check the balance of our target values\n",
    "y.value_counts()"
   ]
  },
  {
   "cell_type": "markdown",
   "metadata": {},
   "source": [
    "## Split data to training and testing sets"
   ]
  },
  {
   "cell_type": "code",
   "execution_count": 13,
   "metadata": {},
   "outputs": [],
   "source": [
    "from sklearn.model_selection import train_test_split\n",
    "X_train, X_test, y_train, y_test = train_test_split(X,y,random_state=1,stratify=y)"
   ]
  },
  {
   "cell_type": "markdown",
   "metadata": {},
   "source": [
    "# Random Forest Classifier\n",
    "## Fit model"
   ]
  },
  {
   "cell_type": "code",
   "execution_count": 14,
   "metadata": {},
   "outputs": [],
   "source": [
    "# Resample the training data with the BalancedRandomForestClassifier\n",
    "from imblearn.ensemble import BalancedRandomForestClassifier\n",
    "\n",
    "brfc = BalancedRandomForestClassifier(n_estimators=100,random_state=1)\n",
    "rf = brfc.fit(X_train,y_train)"
   ]
  },
  {
   "cell_type": "code",
   "execution_count": 15,
   "metadata": {},
   "outputs": [],
   "source": [
    "pickle.dump(brfc, open('model.pkl', 'wb'))\n"
   ]
  },
  {
   "cell_type": "code",
   "execution_count": 16,
   "metadata": {},
   "outputs": [
    {
     "data": {
      "text/plain": [
       "array(['<1D', '<1D', '<1D', ..., '>1D', '<1D', '<1D'], dtype=object)"
      ]
     },
     "execution_count": 16,
     "metadata": {},
     "output_type": "execute_result"
    }
   ],
   "source": [
    "pickled_model = pickle.load(open('model.pkl', 'rb'))\n",
    "pickled_model.predict(X_test)"
   ]
  },
  {
   "cell_type": "code",
   "execution_count": 17,
   "metadata": {},
   "outputs": [
    {
     "data": {
      "text/plain": [
       "0.6093991256022591"
      ]
     },
     "execution_count": 17,
     "metadata": {},
     "output_type": "execute_result"
    }
   ],
   "source": [
    "y_pred=pickled_model.predict(X_test)\n",
    "balanced_accuracy_score(y_test,y_pred)"
   ]
  },
  {
   "cell_type": "markdown",
   "metadata": {},
   "source": [
    "## Calculate Accuracy"
   ]
  },
  {
   "cell_type": "code",
   "execution_count": 18,
   "metadata": {},
   "outputs": [
    {
     "data": {
      "text/plain": [
       "0.6093991256022591"
      ]
     },
     "execution_count": 18,
     "metadata": {},
     "output_type": "execute_result"
    }
   ],
   "source": [
    "# Calculated the balanced accuracy score\n",
    "y_pred=rf.predict(X_test)\n",
    "ba_balanced_forest=balanced_accuracy_score(y_test,y_pred)\n",
    "ba_balanced_forest"
   ]
  },
  {
   "cell_type": "markdown",
   "metadata": {},
   "source": [
    "## Display Confusion Matrix\n"
   ]
  },
  {
   "cell_type": "code",
   "execution_count": 14,
   "metadata": {},
   "outputs": [
    {
     "data": {
      "text/html": [
       "<div>\n",
       "<style scoped>\n",
       "    .dataframe tbody tr th:only-of-type {\n",
       "        vertical-align: middle;\n",
       "    }\n",
       "\n",
       "    .dataframe tbody tr th {\n",
       "        vertical-align: top;\n",
       "    }\n",
       "\n",
       "    .dataframe thead th {\n",
       "        text-align: right;\n",
       "    }\n",
       "</style>\n",
       "<table border=\"1\" class=\"dataframe\">\n",
       "  <thead>\n",
       "    <tr style=\"text-align: right;\">\n",
       "      <th></th>\n",
       "      <th>Predicted &lt;1D</th>\n",
       "      <th>Predicted &gt;1D</th>\n",
       "    </tr>\n",
       "  </thead>\n",
       "  <tbody>\n",
       "    <tr>\n",
       "      <th>Actual &lt;1D</th>\n",
       "      <td>59066</td>\n",
       "      <td>37544</td>\n",
       "    </tr>\n",
       "    <tr>\n",
       "      <th>Actual &gt;1D</th>\n",
       "      <td>5985</td>\n",
       "      <td>9260</td>\n",
       "    </tr>\n",
       "  </tbody>\n",
       "</table>\n",
       "</div>"
      ],
      "text/plain": [
       "            Predicted <1D  Predicted >1D\n",
       "Actual <1D          59066          37544\n",
       "Actual >1D           5985           9260"
      ]
     },
     "execution_count": 14,
     "metadata": {},
     "output_type": "execute_result"
    }
   ],
   "source": [
    "# Display the confusion matrix\n",
    "from sklearn.metrics import confusion_matrix\n",
    "cm=confusion_matrix(y_test,y_pred)\n",
    "\n",
    "cm_df=pd.DataFrame(cm,\n",
    "                  index=[\"Actual <1D\", \"Actual >1D\"],\n",
    "                  columns=[\"Predicted <1D\", \"Predicted >1D\"])\n",
    "cm_df"
   ]
  },
  {
   "cell_type": "markdown",
   "metadata": {},
   "source": [
    "## Print additional scores for analysis: precision, recall, and f1"
   ]
  },
  {
   "cell_type": "code",
   "execution_count": 15,
   "metadata": {},
   "outputs": [],
   "source": [
    "#imbalanced classification report\n",
    "icr_balanced_forest=classification_report_imbalanced(y_test,y_pred)"
   ]
  },
  {
   "cell_type": "code",
   "execution_count": 16,
   "metadata": {
    "scrolled": false
   },
   "outputs": [
    {
     "name": "stdout",
     "output_type": "stream",
     "text": [
      "For the Balanced Random Forest Classifier algortihm, the balanced accuracy score is 0.6093991256022591\n",
      "\n",
      "and the imbalanced classifcation report is:\n",
      "\n",
      "                   pre       rec       spe        f1       geo       iba       sup\n",
      "\n",
      "        <1D       0.91      0.61      0.61      0.73      0.61      0.37     96610\n",
      "        >1D       0.20      0.61      0.61      0.30      0.61      0.37     15245\n",
      "\n",
      "avg / total       0.81      0.61      0.61      0.67      0.61      0.37    111855\n",
      "\n"
     ]
    }
   ],
   "source": [
    "#Summary of findings\n",
    "\n",
    "print(f'For the Balanced Random Forest Classifier algortihm, the balanced accuracy score is {ba_balanced_forest}' \n",
    "      f'\\n\\nand the imbalanced classifcation report is:\\n\\n{icr_balanced_forest}')"
   ]
  },
  {
   "cell_type": "markdown",
   "metadata": {},
   "source": [
    "## Feature Importance"
   ]
  },
  {
   "cell_type": "code",
   "execution_count": 17,
   "metadata": {},
   "outputs": [
    {
     "data": {
      "text/plain": [
       "[(0.26581440533938167, 'q_body_word_count'),\n",
       " (0.21945696793549924, 'q_title_char_count'),\n",
       " (0.18330686673251512, 'q_hour'),\n",
       " (0.11253601396877579, 'q_title_word_count'),\n",
       " (0.05740546325776691, 'q_tags_count'),\n",
       " (0.03566203158864189, 'q_view_count_bin_50-16000'),\n",
       " (0.010766041698690111, 'q_day_Thursday'),\n",
       " (0.010412239982643564, 'q_day_Tuesday'),\n",
       " (0.010380043252825268, 'q_day_Wednesday'),\n",
       " (0.010195998693345655, 'q_day_Monday'),\n",
       " (0.009075162985430294, 'q_view_count_bin_20-30'),\n",
       " (0.009040632510808527, 'q_day_Saturday'),\n",
       " (0.008649329911996368, 'q_day_Sunday'),\n",
       " (0.008431817599653812, 'q_view_count_bin_30-40'),\n",
       " (0.007994526947916492, 'q_day_Friday'),\n",
       " (0.007983184886605195, 'q_score_tier_Zero Score (0)'),\n",
       " (0.006908080918690472, 'q_score_tier_Positive Score (>0)'),\n",
       " (0.006093119539042898, 'q_score_tier_Negative Score (<0)'),\n",
       " (0.005282073952144683, 'q_view_count_bin_40-50'),\n",
       " (0.004654994767301666, 'q_title_word_count_bin_Medium (10-20)'),\n",
       " (0.004429088189627105, 'q_title_word_count_bin_Short (0 - 10)'),\n",
       " (0.0036665320278252505, 'q_view_count_bin_10-20'),\n",
       " (0.0013986979576004648, 'q_title_word_count_bin_Long (20-30)'),\n",
       " (0.0004245953943369177, 'q_view_count_bin_<10'),\n",
       " (3.20899609348087e-05, 'q_title_word_count_bin_XL (30+)')]"
      ]
     },
     "execution_count": 17,
     "metadata": {},
     "output_type": "execute_result"
    }
   ],
   "source": [
    "# List the features sorted in descending order by feature importance\n",
    "sorted(zip(rf.feature_importances_, X.columns), reverse=True)"
   ]
  },
  {
   "cell_type": "markdown",
   "metadata": {},
   "source": [
    "# Logistic Regression"
   ]
  },
  {
   "cell_type": "code",
   "execution_count": 18,
   "metadata": {},
   "outputs": [],
   "source": [
    " %matplotlib inline\n",
    "import matplotlib.pyplot as plt\n",
    "import pandas as pd\n",
    "import os"
   ]
  },
  {
   "cell_type": "code",
   "execution_count": 33,
   "metadata": {},
   "outputs": [
    {
     "data": {
      "text/html": [
       "<div>\n",
       "<style scoped>\n",
       "    .dataframe tbody tr th:only-of-type {\n",
       "        vertical-align: middle;\n",
       "    }\n",
       "\n",
       "    .dataframe tbody tr th {\n",
       "        vertical-align: top;\n",
       "    }\n",
       "\n",
       "    .dataframe thead th {\n",
       "        text-align: right;\n",
       "    }\n",
       "</style>\n",
       "<table border=\"1\" class=\"dataframe\">\n",
       "  <thead>\n",
       "    <tr style=\"text-align: right;\">\n",
       "      <th></th>\n",
       "      <th>q_id</th>\n",
       "      <th>accepted_answer_id</th>\n",
       "      <th>q_score</th>\n",
       "      <th>q_score_tier</th>\n",
       "      <th>q_view_count</th>\n",
       "      <th>q_view_count_bin</th>\n",
       "      <th>q_title_char_count</th>\n",
       "      <th>q_title_char_count_bin</th>\n",
       "      <th>q_title_word_count</th>\n",
       "      <th>q_title_word_count_bin</th>\n",
       "      <th>q_body_word_count</th>\n",
       "      <th>q_body_len_bin</th>\n",
       "      <th>q_tags_count</th>\n",
       "      <th>q_day</th>\n",
       "      <th>q_hour</th>\n",
       "      <th>q_hour_min</th>\n",
       "      <th>accepted_answer_duration</th>\n",
       "    </tr>\n",
       "  </thead>\n",
       "  <tbody>\n",
       "    <tr>\n",
       "      <th>0</th>\n",
       "      <td>65526420</td>\n",
       "      <td>65526457</td>\n",
       "      <td>2</td>\n",
       "      <td>Positive Score (&gt;0)</td>\n",
       "      <td>62</td>\n",
       "      <td>50-16000</td>\n",
       "      <td>72</td>\n",
       "      <td>Medium (50-100)</td>\n",
       "      <td>13</td>\n",
       "      <td>Medium (10-20)</td>\n",
       "      <td>116</td>\n",
       "      <td>100-250</td>\n",
       "      <td>3</td>\n",
       "      <td>Friday</td>\n",
       "      <td>0</td>\n",
       "      <td>00:05</td>\n",
       "      <td>0.122066</td>\n",
       "    </tr>\n",
       "    <tr>\n",
       "      <th>1</th>\n",
       "      <td>65526423</td>\n",
       "      <td>65526533</td>\n",
       "      <td>2</td>\n",
       "      <td>Positive Score (&gt;0)</td>\n",
       "      <td>48</td>\n",
       "      <td>40-50</td>\n",
       "      <td>48</td>\n",
       "      <td>Short (0 - 50)</td>\n",
       "      <td>8</td>\n",
       "      <td>Short (0 - 10)</td>\n",
       "      <td>58</td>\n",
       "      <td>50-100</td>\n",
       "      <td>2</td>\n",
       "      <td>Friday</td>\n",
       "      <td>0</td>\n",
       "      <td>00:06</td>\n",
       "      <td>0.475172</td>\n",
       "    </tr>\n",
       "    <tr>\n",
       "      <th>2</th>\n",
       "      <td>65526490</td>\n",
       "      <td>65526541</td>\n",
       "      <td>2</td>\n",
       "      <td>Positive Score (&gt;0)</td>\n",
       "      <td>35</td>\n",
       "      <td>30-40</td>\n",
       "      <td>81</td>\n",
       "      <td>Medium (50-100)</td>\n",
       "      <td>13</td>\n",
       "      <td>Medium (10-20)</td>\n",
       "      <td>117</td>\n",
       "      <td>100-250</td>\n",
       "      <td>2</td>\n",
       "      <td>Friday</td>\n",
       "      <td>0</td>\n",
       "      <td>00:20</td>\n",
       "      <td>0.287423</td>\n",
       "    </tr>\n",
       "    <tr>\n",
       "      <th>3</th>\n",
       "      <td>65526419</td>\n",
       "      <td>65526554</td>\n",
       "      <td>3</td>\n",
       "      <td>Positive Score (&gt;0)</td>\n",
       "      <td>351</td>\n",
       "      <td>50-16000</td>\n",
       "      <td>76</td>\n",
       "      <td>Medium (50-100)</td>\n",
       "      <td>9</td>\n",
       "      <td>Short (0 - 10)</td>\n",
       "      <td>50</td>\n",
       "      <td>&lt;50</td>\n",
       "      <td>4</td>\n",
       "      <td>Friday</td>\n",
       "      <td>0</td>\n",
       "      <td>00:05</td>\n",
       "      <td>0.575997</td>\n",
       "    </tr>\n",
       "    <tr>\n",
       "      <th>4</th>\n",
       "      <td>65526523</td>\n",
       "      <td>65526577</td>\n",
       "      <td>2</td>\n",
       "      <td>Positive Score (&gt;0)</td>\n",
       "      <td>117</td>\n",
       "      <td>50-16000</td>\n",
       "      <td>82</td>\n",
       "      <td>Medium (50-100)</td>\n",
       "      <td>14</td>\n",
       "      <td>Medium (10-20)</td>\n",
       "      <td>305</td>\n",
       "      <td>250-500</td>\n",
       "      <td>3</td>\n",
       "      <td>Friday</td>\n",
       "      <td>0</td>\n",
       "      <td>00:30</td>\n",
       "      <td>0.253412</td>\n",
       "    </tr>\n",
       "  </tbody>\n",
       "</table>\n",
       "</div>"
      ],
      "text/plain": [
       "       q_id  accepted_answer_id  q_score         q_score_tier  q_view_count  \\\n",
       "0  65526420            65526457        2  Positive Score (>0)            62   \n",
       "1  65526423            65526533        2  Positive Score (>0)            48   \n",
       "2  65526490            65526541        2  Positive Score (>0)            35   \n",
       "3  65526419            65526554        3  Positive Score (>0)           351   \n",
       "4  65526523            65526577        2  Positive Score (>0)           117   \n",
       "\n",
       "  q_view_count_bin  q_title_char_count q_title_char_count_bin  \\\n",
       "0         50-16000                  72        Medium (50-100)   \n",
       "1            40-50                  48         Short (0 - 50)   \n",
       "2            30-40                  81        Medium (50-100)   \n",
       "3         50-16000                  76        Medium (50-100)   \n",
       "4         50-16000                  82        Medium (50-100)   \n",
       "\n",
       "   q_title_word_count q_title_word_count_bin  q_body_word_count  \\\n",
       "0                  13         Medium (10-20)                116   \n",
       "1                   8         Short (0 - 10)                 58   \n",
       "2                  13         Medium (10-20)                117   \n",
       "3                   9         Short (0 - 10)                 50   \n",
       "4                  14         Medium (10-20)                305   \n",
       "\n",
       "  q_body_len_bin  q_tags_count   q_day  q_hour q_hour_min  \\\n",
       "0        100-250             3  Friday       0      00:05   \n",
       "1         50-100             2  Friday       0      00:06   \n",
       "2        100-250             2  Friday       0      00:20   \n",
       "3            <50             4  Friday       0      00:05   \n",
       "4        250-500             3  Friday       0      00:30   \n",
       "\n",
       "   accepted_answer_duration  \n",
       "0                  0.122066  \n",
       "1                  0.475172  \n",
       "2                  0.287423  \n",
       "3                  0.575997  \n",
       "4                  0.253412  "
      ]
     },
     "execution_count": 33,
     "metadata": {},
     "output_type": "execute_result"
    }
   ],
   "source": [
    " # Read the CSV file into a Pandas DataFrame\n",
    "\n",
    "notes = pd.read_csv('Resources/ML_Input_Jan2021.csv', \n",
    "#                     header=0, \n",
    "#                     names=['accepted_answer_duration','accepted_answer_duration_bin','q_title_char_count_bin']\n",
    "                   )\n",
    "notes.head()"
   ]
  },
  {
   "cell_type": "code",
   "execution_count": 83,
   "metadata": {},
   "outputs": [
    {
     "name": "stdout",
     "output_type": "stream",
     "text": [
      "Shape:  (447419, 3) (447419,)\n"
     ]
    }
   ],
   "source": [
    " # Assign the data to X and y\n",
    "# Note: Sklearn requires a two-dimensional array of values\n",
    "# so we use reshape() to create this\n",
    "\n",
    "X = df[['q_body_word_count','q_title_char_count_bin','q_hour']]\n",
    "y = df['accepted_answer_duration_bin']\n",
    "\n",
    "print(\"Shape: \", X.shape, y.shape)"
   ]
  },
  {
   "cell_type": "code",
   "execution_count": 90,
   "metadata": {},
   "outputs": [
    {
     "data": {
      "text/plain": [
       "<1D    386440\n",
       ">1D     60979\n",
       "Name: accepted_answer_duration_bin, dtype: int64"
      ]
     },
     "execution_count": 90,
     "metadata": {},
     "output_type": "execute_result"
    }
   ],
   "source": [
    "y.value_counts()"
   ]
  },
  {
   "cell_type": "code",
   "execution_count": null,
   "metadata": {},
   "outputs": [],
   "source": [
    "## data set is imbalanced"
   ]
  },
  {
   "cell_type": "code",
   "execution_count": 89,
   "metadata": {},
   "outputs": [
    {
     "data": {
      "text/plain": [
       "<matplotlib.legend.Legend at 0x7fc47f7870d0>"
      ]
     },
     "execution_count": 89,
     "metadata": {},
     "output_type": "execute_result"
    },
    {
     "data": {
      "image/png": "[encoded data removed]",
      "text/plain": [
       "<Figure size 432x288 with 1 Axes>"
      ]
     },
     "metadata": {
      "needs_background": "light"
     },
     "output_type": "display_data"
    }
   ],
   "source": [
    " # Visualizing both classes    \n",
    "plt.scatter(X['q_body_word_count'], X['q_title_char_count_bin'], c=y.apply(lambda x: x == '<1D'))\n",
    "plt.legend(y.unique())"
   ]
  },
  {
   "cell_type": "code",
   "execution_count": 77,
   "metadata": {},
   "outputs": [
    {
     "data": {
      "text/html": [
       "<div>\n",
       "<style scoped>\n",
       "    .dataframe tbody tr th:only-of-type {\n",
       "        vertical-align: middle;\n",
       "    }\n",
       "\n",
       "    .dataframe tbody tr th {\n",
       "        vertical-align: top;\n",
       "    }\n",
       "\n",
       "    .dataframe thead th {\n",
       "        text-align: right;\n",
       "    }\n",
       "</style>\n",
       "<table border=\"1\" class=\"dataframe\">\n",
       "  <thead>\n",
       "    <tr style=\"text-align: right;\">\n",
       "      <th></th>\n",
       "      <th>q_body_word_count</th>\n",
       "      <th>q_hour</th>\n",
       "      <th>q_title_char_count_bin_Long (100-150)</th>\n",
       "      <th>q_title_char_count_bin_Medium (50-100)</th>\n",
       "      <th>q_title_char_count_bin_Short (0 - 50)</th>\n",
       "    </tr>\n",
       "  </thead>\n",
       "  <tbody>\n",
       "    <tr>\n",
       "      <th>0</th>\n",
       "      <td>116</td>\n",
       "      <td>0</td>\n",
       "      <td>0</td>\n",
       "      <td>1</td>\n",
       "      <td>0</td>\n",
       "    </tr>\n",
       "    <tr>\n",
       "      <th>1</th>\n",
       "      <td>58</td>\n",
       "      <td>0</td>\n",
       "      <td>0</td>\n",
       "      <td>0</td>\n",
       "      <td>1</td>\n",
       "    </tr>\n",
       "    <tr>\n",
       "      <th>2</th>\n",
       "      <td>117</td>\n",
       "      <td>0</td>\n",
       "      <td>0</td>\n",
       "      <td>1</td>\n",
       "      <td>0</td>\n",
       "    </tr>\n",
       "    <tr>\n",
       "      <th>3</th>\n",
       "      <td>50</td>\n",
       "      <td>0</td>\n",
       "      <td>0</td>\n",
       "      <td>1</td>\n",
       "      <td>0</td>\n",
       "    </tr>\n",
       "    <tr>\n",
       "      <th>4</th>\n",
       "      <td>305</td>\n",
       "      <td>0</td>\n",
       "      <td>0</td>\n",
       "      <td>1</td>\n",
       "      <td>0</td>\n",
       "    </tr>\n",
       "  </tbody>\n",
       "</table>\n",
       "</div>"
      ],
      "text/plain": [
       "   q_body_word_count  q_hour  q_title_char_count_bin_Long (100-150)  \\\n",
       "0                116       0                                      0   \n",
       "1                 58       0                                      0   \n",
       "2                117       0                                      0   \n",
       "3                 50       0                                      0   \n",
       "4                305       0                                      0   \n",
       "\n",
       "   q_title_char_count_bin_Medium (50-100)  \\\n",
       "0                                       1   \n",
       "1                                       0   \n",
       "2                                       1   \n",
       "3                                       1   \n",
       "4                                       1   \n",
       "\n",
       "   q_title_char_count_bin_Short (0 - 50)  \n",
       "0                                      0  \n",
       "1                                      1  \n",
       "2                                      0  \n",
       "3                                      0  \n",
       "4                                      0  "
      ]
     },
     "execution_count": 77,
     "metadata": {},
     "output_type": "execute_result"
    }
   ],
   "source": [
    "X = pd.get_dummies(X, columns = ['q_title_char_count_bin'])\n",
    "X.head()"
   ]
  },
  {
   "cell_type": "code",
   "execution_count": 78,
   "metadata": {},
   "outputs": [],
   "source": [
    "from sklearn.model_selection import train_test_split\n",
    "\n",
    "X_train, X_test, y_train, y_test = train_test_split(X, y, random_state=1)"
   ]
  },
  {
   "cell_type": "code",
   "execution_count": 79,
   "metadata": {},
   "outputs": [
    {
     "data": {
      "text/plain": [
       "LogisticRegression()"
      ]
     },
     "execution_count": 79,
     "metadata": {},
     "output_type": "execute_result"
    }
   ],
   "source": [
    " from sklearn.linear_model import LogisticRegression\n",
    "classifier = LogisticRegression()\n",
    "classifier"
   ]
  },
  {
   "cell_type": "code",
   "execution_count": 80,
   "metadata": {},
   "outputs": [
    {
     "data": {
      "text/plain": [
       "LogisticRegression()"
      ]
     },
     "execution_count": 80,
     "metadata": {},
     "output_type": "execute_result"
    }
   ],
   "source": [
    "classifier.fit(X_train, y_train)"
   ]
  },
  {
   "cell_type": "code",
   "execution_count": 81,
   "metadata": {},
   "outputs": [
    {
     "name": "stdout",
     "output_type": "stream",
     "text": [
      "Training Data Score: 0.8636504511806987\n",
      "Testing Data Score: 0.8620982522015109\n"
     ]
    }
   ],
   "source": [
    " print(f\"Training Data Score: {classifier.score(X_train, y_train)}\")\n",
    "print(f\"Testing Data Score: {classifier.score(X_test, y_test)}\")"
   ]
  },
  {
   "cell_type": "code",
   "execution_count": 75,
   "metadata": {},
   "outputs": [
    {
     "name": "stdout",
     "output_type": "stream",
     "text": [
      "Actual:\t\t['<1D', '<1D', '<1D', '<1D', '<1D', '<1D', '<1D', '<1D', '<1D', '<1D']\n",
      "Predicted:\t['<1D', '<1D', '<1D', '<1D', '<1D', '<1D', '<1D', '<1D', '<1D', '<1D']\n"
     ]
    }
   ],
   "source": [
    "print(f'Actual:\\t\\t{list(y_test[:10])}')\n",
    "print(\"Predicted:\\t{}\".format(list(classifier.predict(X_test[:10]))))"
   ]
  },
  {
   "cell_type": "markdown",
   "metadata": {},
   "source": [
    "## end of logistic regression"
   ]
  },
  {
   "cell_type": "markdown",
   "metadata": {},
   "source": [
    "## Display Confusion Matrix"
   ]
  },
  {
   "cell_type": "code",
   "execution_count": 59,
   "metadata": {},
   "outputs": [
    {
     "data": {
      "text/html": [
       "<div>\n",
       "<style scoped>\n",
       "    .dataframe tbody tr th:only-of-type {\n",
       "        vertical-align: middle;\n",
       "    }\n",
       "\n",
       "    .dataframe tbody tr th {\n",
       "        vertical-align: top;\n",
       "    }\n",
       "\n",
       "    .dataframe thead th {\n",
       "        text-align: right;\n",
       "    }\n",
       "</style>\n",
       "<table border=\"1\" class=\"dataframe\">\n",
       "  <thead>\n",
       "    <tr style=\"text-align: right;\">\n",
       "      <th></th>\n",
       "      <th>Predicted &lt;1D</th>\n",
       "      <th>Predicted &gt;1D</th>\n",
       "    </tr>\n",
       "  </thead>\n",
       "  <tbody>\n",
       "    <tr>\n",
       "      <th>Actual &lt;1D</th>\n",
       "      <td>56154</td>\n",
       "      <td>40336</td>\n",
       "    </tr>\n",
       "    <tr>\n",
       "      <th>Actual &gt;1D</th>\n",
       "      <td>8897</td>\n",
       "      <td>6468</td>\n",
       "    </tr>\n",
       "  </tbody>\n",
       "</table>\n",
       "</div>"
      ],
      "text/plain": [
       "            Predicted <1D  Predicted >1D\n",
       "Actual <1D          56154          40336\n",
       "Actual >1D           8897           6468"
      ]
     },
     "execution_count": 59,
     "metadata": {},
     "output_type": "execute_result"
    }
   ],
   "source": [
    "# Display the confusion matrix\n",
    "cm=confusion_matrix(y_test, y_pred)\n",
    " \n",
    "cm_df=pd.DataFrame(cm,\n",
    "                  index=[\"Actual <1D\", \"Actual >1D\"],\n",
    "                  columns=[\"Predicted <1D\", \"Predicted >1D\"])\n",
    "\n",
    "cm_df"
   ]
  },
  {
   "cell_type": "markdown",
   "metadata": {},
   "source": [
    "## Print additional scores for analysis: precision, recall, and f1"
   ]
  },
  {
   "cell_type": "code",
   "execution_count": 42,
   "metadata": {},
   "outputs": [],
   "source": [
    "#imbalanced classification report\n",
    "icr_easy_ensemble=classification_report_imbalanced(y_test,y_pred)"
   ]
  },
  {
   "cell_type": "code",
   "execution_count": 43,
   "metadata": {},
   "outputs": [
    {
     "name": "stdout",
     "output_type": "stream",
     "text": [
      "For the Easy Ensemble AdaBoost Classifier algortihm, the balanced accuracy score is 0.6286691301503385\n",
      "\n",
      "and the imbalanced classifcation report is:\n",
      "\n",
      "                   pre       rec       spe        f1       geo       iba       sup\n",
      "\n",
      "        <1D       0.92      0.62      0.64      0.74      0.63      0.39     96610\n",
      "        >1D       0.21      0.64      0.62      0.32      0.63      0.40     15245\n",
      "\n",
      "avg / total       0.82      0.62      0.63      0.68      0.63      0.39    111855\n",
      "\n"
     ]
    }
   ],
   "source": [
    "print(f'For the Easy Ensemble AdaBoost Classifier algortihm, the balanced accuracy score is {ba_easy_ensemble}' \n",
    "      f'\\n\\nand the imbalanced classifcation report is:\\n\\n{icr_easy_ensemble}')"
   ]
  },
  {
   "cell_type": "markdown",
   "metadata": {},
   "source": [
    "# Compare and Contrast Random Forest and Logistic Regression"
   ]
  },
  {
   "cell_type": "code",
   "execution_count": 49,
   "metadata": {},
   "outputs": [
    {
     "name": "stdout",
     "output_type": "stream",
     "text": [
      "For the Balanced Random Forest Classifier algortihm, the balanced accuracy score is 0.6093991256022591\n",
      "\n",
      "and the imbalanced classifcation report is:\n",
      "\n",
      "                   pre       rec       spe        f1       geo       iba       sup\n",
      "\n",
      "        <1D       0.91      0.61      0.61      0.73      0.61      0.37     96610\n",
      "        >1D       0.20      0.61      0.61      0.30      0.61      0.37     15245\n",
      "\n",
      "avg / total       0.81      0.61      0.61      0.67      0.61      0.37    111855\n",
      "\n",
      "For the Easy Ensemble AdaBoost Classifier algortihm, the balanced accuracy score is 0.6286691301503385\n",
      "\n",
      "and the imbalanced classifcation report is:\n",
      "\n",
      "                   pre       rec       spe        f1       geo       iba       sup\n",
      "\n",
      "        <1D       0.92      0.62      0.64      0.74      0.63      0.39     96610\n",
      "        >1D       0.21      0.64      0.62      0.32      0.63      0.40     15245\n",
      "\n",
      "avg / total       0.82      0.62      0.63      0.68      0.63      0.39    111855\n",
      "\n"
     ]
    }
   ],
   "source": [
    "#randonm forest\n",
    "print(f'For the Balanced Random Forest Classifier algortihm, the balanced accuracy score is {ba_balanced_forest}' \n",
    "      f'\\n\\nand the imbalanced classifcation report is:\\n\\n{icr_balanced_forest}')\n",
    "\n",
    "#easy ensemble\n",
    "print(f'For the Easy Ensemble AdaBoost Classifier algortihm, the balanced accuracy score is {ba_easy_ensemble}' \n",
    "      f'\\n\\nand the imbalanced classifcation report is:\\n\\n{icr_easy_ensemble}')"
   ]
  },
  {
   "cell_type": "code",
   "execution_count": 73,
   "metadata": {},
   "outputs": [
    {
     "data": {
      "application/vnd.plotly.v1+json": {
       "config": {
        "plotlyServerURL": "https://plot.ly"
       },
       "data": [
        {
         "hoverinfo": "text",
         "hovertext": [
          "Linear Regression Model produced only 1% accuracy",
          "Random Forest Classifier improved accuracy to 43%",
          "Accuracy further improved to 58% then 61% by expanding data",
          "Easy Ensemble Classifier improved accuracy to 63% but long run time was not worth the improvement",
          "Logistic Regression Model improved accuracy to 86% but model was overfitting data",
          "Settled on Random Forest Model because of accuracy and overall ease of use "
         ],
         "marker": {
          "color": "blue"
         },
         "showlegend": false,
         "type": "scatter",
         "x": [
          "Attempt1: Linear Regression",
          "Attempt 2: Random Forest Classifier",
          "Attempt 3: Random Forest with expanded data",
          "Attempt 4: Easy Ensemble Classifier",
          "Attempt 5:Logistic Regression",
          "Final Model Selection: Random Forest"
         ],
         "y": [
          "2021-09-05",
          "2021-09-08",
          "2021-09-12",
          "2021-09-15",
          "2021-09-19",
          "2021-09-20"
         ]
        }
       ],
       "layout": {
        "template": {
         "data": {
          "bar": [
           {
            "error_x": {
             "color": "#2a3f5f"
            },
            "error_y": {
             "color": "#2a3f5f"
            },
            "marker": {
             "line": {
              "color": "#E5ECF6",
              "width": 0.5
             },
             "pattern": {
              "fillmode": "overlay",
              "size": 10,
              "solidity": 0.2
             }
            },
            "type": "bar"
           }
          ],
          "barpolar": [
           {
            "marker": {
             "line": {
              "color": "#E5ECF6",
              "width": 0.5
             },
             "pattern": {
              "fillmode": "overlay",
              "size": 10,
              "solidity": 0.2
             }
            },
            "type": "barpolar"
           }
          ],
          "carpet": [
           {
            "aaxis": {
             "endlinecolor": "#2a3f5f",
             "gridcolor": "white",
             "linecolor": "white",
             "minorgridcolor": "white",
             "startlinecolor": "#2a3f5f"
            },
            "baxis": {
             "endlinecolor": "#2a3f5f",
             "gridcolor": "white",
             "linecolor": "white",
             "minorgridcolor": "white",
             "startlinecolor": "#2a3f5f"
            },
            "type": "carpet"
           }
          ],
          "choropleth": [
           {
            "colorbar": {
             "outlinewidth": 0,
             "ticks": ""
            },
            "type": "choropleth"
           }
          ],
          "contour": [
           {
            "colorbar": {
             "outlinewidth": 0,
             "ticks": ""
            },
            "colorscale": [
             [
              0,
              "#0d0887"
             ],
             [
              0.1111111111111111,
              "#46039f"
             ],
             [
              0.2222222222222222,
              "#7201a8"
             ],
             [
              0.3333333333333333,
              "#9c179e"
             ],
             [
              0.4444444444444444,
              "#bd3786"
             ],
             [
              0.5555555555555556,
              "#d8576b"
             ],
             [
              0.6666666666666666,
              "#ed7953"
             ],
             [
              0.7777777777777778,
              "#fb9f3a"
             ],
             [
              0.8888888888888888,
              "#fdca26"
             ],
             [
              1,
              "#f0f921"
             ]
            ],
            "type": "contour"
           }
          ],
          "contourcarpet": [
           {
            "colorbar": {
             "outlinewidth": 0,
             "ticks": ""
            },
            "type": "contourcarpet"
           }
          ],
          "heatmap": [
           {
            "colorbar": {
             "outlinewidth": 0,
             "ticks": ""
            },
            "colorscale": [
             [
              0,
              "#0d0887"
             ],
             [
              0.1111111111111111,
              "#46039f"
             ],
             [
              0.2222222222222222,
              "#7201a8"
             ],
             [
              0.3333333333333333,
              "#9c179e"
             ],
             [
              0.4444444444444444,
              "#bd3786"
             ],
             [
              0.5555555555555556,
              "#d8576b"
             ],
             [
              0.6666666666666666,
              "#ed7953"
             ],
             [
              0.7777777777777778,
              "#fb9f3a"
             ],
             [
              0.8888888888888888,
              "#fdca26"
             ],
             [
              1,
              "#f0f921"
             ]
            ],
            "type": "heatmap"
           }
          ],
          "heatmapgl": [
           {
            "colorbar": {
             "outlinewidth": 0,
             "ticks": ""
            },
            "colorscale": [
             [
              0,
              "#0d0887"
             ],
             [
              0.1111111111111111,
              "#46039f"
             ],
             [
              0.2222222222222222,
              "#7201a8"
             ],
             [
              0.3333333333333333,
              "#9c179e"
             ],
             [
              0.4444444444444444,
              "#bd3786"
             ],
             [
              0.5555555555555556,
              "#d8576b"
             ],
             [
              0.6666666666666666,
              "#ed7953"
             ],
             [
              0.7777777777777778,
              "#fb9f3a"
             ],
             [
              0.8888888888888888,
              "#fdca26"
             ],
             [
              1,
              "#f0f921"
             ]
            ],
            "type": "heatmapgl"
           }
          ],
          "histogram": [
           {
            "marker": {
             "pattern": {
              "fillmode": "overlay",
              "size": 10,
              "solidity": 0.2
             }
            },
            "type": "histogram"
           }
          ],
          "histogram2d": [
           {
            "colorbar": {
             "outlinewidth": 0,
             "ticks": ""
            },
            "colorscale": [
             [
              0,
              "#0d0887"
             ],
             [
              0.1111111111111111,
              "#46039f"
             ],
             [
              0.2222222222222222,
              "#7201a8"
             ],
             [
              0.3333333333333333,
              "#9c179e"
             ],
             [
              0.4444444444444444,
              "#bd3786"
             ],
             [
              0.5555555555555556,
              "#d8576b"
             ],
             [
              0.6666666666666666,
              "#ed7953"
             ],
             [
              0.7777777777777778,
              "#fb9f3a"
             ],
             [
              0.8888888888888888,
              "#fdca26"
             ],
             [
              1,
              "#f0f921"
             ]
            ],
            "type": "histogram2d"
           }
          ],
          "histogram2dcontour": [
           {
            "colorbar": {
             "outlinewidth": 0,
             "ticks": ""
            },
            "colorscale": [
             [
              0,
              "#0d0887"
             ],
             [
              0.1111111111111111,
              "#46039f"
             ],
             [
              0.2222222222222222,
              "#7201a8"
             ],
             [
              0.3333333333333333,
              "#9c179e"
             ],
             [
              0.4444444444444444,
              "#bd3786"
             ],
             [
              0.5555555555555556,
              "#d8576b"
             ],
             [
              0.6666666666666666,
              "#ed7953"
             ],
             [
              0.7777777777777778,
              "#fb9f3a"
             ],
             [
              0.8888888888888888,
              "#fdca26"
             ],
             [
              1,
              "#f0f921"
             ]
            ],
            "type": "histogram2dcontour"
           }
          ],
          "mesh3d": [
           {
            "colorbar": {
             "outlinewidth": 0,
             "ticks": ""
            },
            "type": "mesh3d"
           }
          ],
          "parcoords": [
           {
            "line": {
             "colorbar": {
              "outlinewidth": 0,
              "ticks": ""
             }
            },
            "type": "parcoords"
           }
          ],
          "pie": [
           {
            "automargin": true,
            "type": "pie"
           }
          ],
          "scatter": [
           {
            "marker": {
             "colorbar": {
              "outlinewidth": 0,
              "ticks": ""
             }
            },
            "type": "scatter"
           }
          ],
          "scatter3d": [
           {
            "line": {
             "colorbar": {
              "outlinewidth": 0,
              "ticks": ""
             }
            },
            "marker": {
             "colorbar": {
              "outlinewidth": 0,
              "ticks": ""
             }
            },
            "type": "scatter3d"
           }
          ],
          "scattercarpet": [
           {
            "marker": {
             "colorbar": {
              "outlinewidth": 0,
              "ticks": ""
             }
            },
            "type": "scattercarpet"
           }
          ],
          "scattergeo": [
           {
            "marker": {
             "colorbar": {
              "outlinewidth": 0,
              "ticks": ""
             }
            },
            "type": "scattergeo"
           }
          ],
          "scattergl": [
           {
            "marker": {
             "colorbar": {
              "outlinewidth": 0,
              "ticks": ""
             }
            },
            "type": "scattergl"
           }
          ],
          "scattermapbox": [
           {
            "marker": {
             "colorbar": {
              "outlinewidth": 0,
              "ticks": ""
             }
            },
            "type": "scattermapbox"
           }
          ],
          "scatterpolar": [
           {
            "marker": {
             "colorbar": {
              "outlinewidth": 0,
              "ticks": ""
             }
            },
            "type": "scatterpolar"
           }
          ],
          "scatterpolargl": [
           {
            "marker": {
             "colorbar": {
              "outlinewidth": 0,
              "ticks": ""
             }
            },
            "type": "scatterpolargl"
           }
          ],
          "scatterternary": [
           {
            "marker": {
             "colorbar": {
              "outlinewidth": 0,
              "ticks": ""
             }
            },
            "type": "scatterternary"
           }
          ],
          "surface": [
           {
            "colorbar": {
             "outlinewidth": 0,
             "ticks": ""
            },
            "colorscale": [
             [
              0,
              "#0d0887"
             ],
             [
              0.1111111111111111,
              "#46039f"
             ],
             [
              0.2222222222222222,
              "#7201a8"
             ],
             [
              0.3333333333333333,
              "#9c179e"
             ],
             [
              0.4444444444444444,
              "#bd3786"
             ],
             [
              0.5555555555555556,
              "#d8576b"
             ],
             [
              0.6666666666666666,
              "#ed7953"
             ],
             [
              0.7777777777777778,
              "#fb9f3a"
             ],
             [
              0.8888888888888888,
              "#fdca26"
             ],
             [
              1,
              "#f0f921"
             ]
            ],
            "type": "surface"
           }
          ],
          "table": [
           {
            "cells": {
             "fill": {
              "color": "#EBF0F8"
             },
             "line": {
              "color": "white"
             }
            },
            "header": {
             "fill": {
              "color": "#C8D4E3"
             },
             "line": {
              "color": "white"
             }
            },
            "type": "table"
           }
          ]
         },
         "layout": {
          "annotationdefaults": {
           "arrowcolor": "#2a3f5f",
           "arrowhead": 0,
           "arrowwidth": 1
          },
          "autotypenumbers": "strict",
          "coloraxis": {
           "colorbar": {
            "outlinewidth": 0,
            "ticks": ""
           }
          },
          "colorscale": {
           "diverging": [
            [
             0,
             "#8e0152"
            ],
            [
             0.1,
             "#c51b7d"
            ],
            [
             0.2,
             "#de77ae"
            ],
            [
             0.3,
             "#f1b6da"
            ],
            [
             0.4,
             "#fde0ef"
            ],
            [
             0.5,
             "#f7f7f7"
            ],
            [
             0.6,
             "#e6f5d0"
            ],
            [
             0.7,
             "#b8e186"
            ],
            [
             0.8,
             "#7fbc41"
            ],
            [
             0.9,
             "#4d9221"
            ],
            [
             1,
             "#276419"
            ]
           ],
           "sequential": [
            [
             0,
             "#0d0887"
            ],
            [
             0.1111111111111111,
             "#46039f"
            ],
            [
             0.2222222222222222,
             "#7201a8"
            ],
            [
             0.3333333333333333,
             "#9c179e"
            ],
            [
             0.4444444444444444,
             "#bd3786"
            ],
            [
             0.5555555555555556,
             "#d8576b"
            ],
            [
             0.6666666666666666,
             "#ed7953"
            ],
            [
             0.7777777777777778,
             "#fb9f3a"
            ],
            [
             0.8888888888888888,
             "#fdca26"
            ],
            [
             1,
             "#f0f921"
            ]
           ],
           "sequentialminus": [
            [
             0,
             "#0d0887"
            ],
            [
             0.1111111111111111,
             "#46039f"
            ],
            [
             0.2222222222222222,
             "#7201a8"
            ],
            [
             0.3333333333333333,
             "#9c179e"
            ],
            [
             0.4444444444444444,
             "#bd3786"
            ],
            [
             0.5555555555555556,
             "#d8576b"
            ],
            [
             0.6666666666666666,
             "#ed7953"
            ],
            [
             0.7777777777777778,
             "#fb9f3a"
            ],
            [
             0.8888888888888888,
             "#fdca26"
            ],
            [
             1,
             "#f0f921"
            ]
           ]
          },
          "colorway": [
           "#636efa",
           "#EF553B",
           "#00cc96",
           "#ab63fa",
           "#FFA15A",
           "#19d3f3",
           "#FF6692",
           "#B6E880",
           "#FF97FF",
           "#FECB52"
          ],
          "font": {
           "color": "#2a3f5f"
          },
          "geo": {
           "bgcolor": "white",
           "lakecolor": "white",
           "landcolor": "#E5ECF6",
           "showlakes": true,
           "showland": true,
           "subunitcolor": "white"
          },
          "hoverlabel": {
           "align": "left"
          },
          "hovermode": "closest",
          "mapbox": {
           "style": "light"
          },
          "paper_bgcolor": "white",
          "plot_bgcolor": "#E5ECF6",
          "polar": {
           "angularaxis": {
            "gridcolor": "white",
            "linecolor": "white",
            "ticks": ""
           },
           "bgcolor": "#E5ECF6",
           "radialaxis": {
            "gridcolor": "white",
            "linecolor": "white",
            "ticks": ""
           }
          },
          "scene": {
           "xaxis": {
            "backgroundcolor": "#E5ECF6",
            "gridcolor": "white",
            "gridwidth": 2,
            "linecolor": "white",
            "showbackground": true,
            "ticks": "",
            "zerolinecolor": "white"
           },
           "yaxis": {
            "backgroundcolor": "#E5ECF6",
            "gridcolor": "white",
            "gridwidth": 2,
            "linecolor": "white",
            "showbackground": true,
            "ticks": "",
            "zerolinecolor": "white"
           },
           "zaxis": {
            "backgroundcolor": "#E5ECF6",
            "gridcolor": "white",
            "gridwidth": 2,
            "linecolor": "white",
            "showbackground": true,
            "ticks": "",
            "zerolinecolor": "white"
           }
          },
          "shapedefaults": {
           "line": {
            "color": "#2a3f5f"
           }
          },
          "ternary": {
           "aaxis": {
            "gridcolor": "white",
            "linecolor": "white",
            "ticks": ""
           },
           "baxis": {
            "gridcolor": "white",
            "linecolor": "white",
            "ticks": ""
           },
           "bgcolor": "#E5ECF6",
           "caxis": {
            "gridcolor": "white",
            "linecolor": "white",
            "ticks": ""
           }
          },
          "title": {
           "x": 0.05
          },
          "xaxis": {
           "automargin": true,
           "gridcolor": "white",
           "linecolor": "white",
           "ticks": "",
           "title": {
            "standoff": 15
           },
           "zerolinecolor": "white",
           "zerolinewidth": 2
          },
          "yaxis": {
           "automargin": true,
           "gridcolor": "white",
           "linecolor": "white",
           "ticks": "",
           "title": {
            "standoff": 15
           },
           "zerolinecolor": "white",
           "zerolinewidth": 2
          }
         }
        },
        "title": {
         "text": "Machine Learning Model Selection Process",
         "x": 0.5,
         "xanchor": "center",
         "y": 0.9,
         "yanchor": "top"
        }
       }
      },
      "text/html": [
       "<div>                            <div id=\"591347a0-ee3b-45d7-b2d4-365d5f79be6d\" class=\"plotly-graph-div\" style=\"height:525px; width:100%;\"></div>            <script type=\"text/javascript\">                require([\"plotly\"], function(Plotly) {                    window.PLOTLYENV=window.PLOTLYENV || {};                                    if (document.getElementById(\"591347a0-ee3b-45d7-b2d4-365d5f79be6d\")) {                    Plotly.newPlot(                        \"591347a0-ee3b-45d7-b2d4-365d5f79be6d\",                        [{\"hoverinfo\":\"text\",\"hovertext\":[\"Linear Regression Model produced only 1% accuracy\",\"Random Forest Classifier improved accuracy to 43%\",\"Accuracy further improved to 58% then 61% by expanding data\",\"Easy Ensemble Classifier improved accuracy to 63% but long run time was not worth the improvement\",\"Logistic Regression Model improved accuracy to 86% but model was overfitting data\",\"Settled on Random Forest Model because of accuracy and overall ease of use \"],\"marker\":{\"color\":\"blue\"},\"showlegend\":false,\"type\":\"scatter\",\"x\":[\"Attempt1: Linear Regression\",\"Attempt 2: Random Forest Classifier\",\"Attempt 3: Random Forest with expanded data\",\"Attempt 4: Easy Ensemble Classifier\",\"Attempt 5:Logistic Regression\",\"Final Model Selection: Random Forest\"],\"y\":[\"2021-09-05\",\"2021-09-08\",\"2021-09-12\",\"2021-09-15\",\"2021-09-19\",\"2021-09-20\"]}],                        {\"template\":{\"data\":{\"bar\":[{\"error_x\":{\"color\":\"#2a3f5f\"},\"error_y\":{\"color\":\"#2a3f5f\"},\"marker\":{\"line\":{\"color\":\"#E5ECF6\",\"width\":0.5},\"pattern\":{\"fillmode\":\"overlay\",\"size\":10,\"solidity\":0.2}},\"type\":\"bar\"}],\"barpolar\":[{\"marker\":{\"line\":{\"color\":\"#E5ECF6\",\"width\":0.5},\"pattern\":{\"fillmode\":\"overlay\",\"size\":10,\"solidity\":0.2}},\"type\":\"barpolar\"}],\"carpet\":[{\"aaxis\":{\"endlinecolor\":\"#2a3f5f\",\"gridcolor\":\"white\",\"linecolor\":\"white\",\"minorgridcolor\":\"white\",\"startlinecolor\":\"#2a3f5f\"},\"baxis\":{\"endlinecolor\":\"#2a3f5f\",\"gridcolor\":\"white\",\"linecolor\":\"white\",\"minorgridcolor\":\"white\",\"startlinecolor\":\"#2a3f5f\"},\"type\":\"carpet\"}],\"choropleth\":[{\"colorbar\":{\"outlinewidth\":0,\"ticks\":\"\"},\"type\":\"choropleth\"}],\"contour\":[{\"colorbar\":{\"outlinewidth\":0,\"ticks\":\"\"},\"colorscale\":[[0.0,\"#0d0887\"],[0.1111111111111111,\"#46039f\"],[0.2222222222222222,\"#7201a8\"],[0.3333333333333333,\"#9c179e\"],[0.4444444444444444,\"#bd3786\"],[0.5555555555555556,\"#d8576b\"],[0.6666666666666666,\"#ed7953\"],[0.7777777777777778,\"#fb9f3a\"],[0.8888888888888888,\"#fdca26\"],[1.0,\"#f0f921\"]],\"type\":\"contour\"}],\"contourcarpet\":[{\"colorbar\":{\"outlinewidth\":0,\"ticks\":\"\"},\"type\":\"contourcarpet\"}],\"heatmap\":[{\"colorbar\":{\"outlinewidth\":0,\"ticks\":\"\"},\"colorscale\":[[0.0,\"#0d0887\"],[0.1111111111111111,\"#46039f\"],[0.2222222222222222,\"#7201a8\"],[0.3333333333333333,\"#9c179e\"],[0.4444444444444444,\"#bd3786\"],[0.5555555555555556,\"#d8576b\"],[0.6666666666666666,\"#ed7953\"],[0.7777777777777778,\"#fb9f3a\"],[0.8888888888888888,\"#fdca26\"],[1.0,\"#f0f921\"]],\"type\":\"heatmap\"}],\"heatmapgl\":[{\"colorbar\":{\"outlinewidth\":0,\"ticks\":\"\"},\"colorscale\":[[0.0,\"#0d0887\"],[0.1111111111111111,\"#46039f\"],[0.2222222222222222,\"#7201a8\"],[0.3333333333333333,\"#9c179e\"],[0.4444444444444444,\"#bd3786\"],[0.5555555555555556,\"#d8576b\"],[0.6666666666666666,\"#ed7953\"],[0.7777777777777778,\"#fb9f3a\"],[0.8888888888888888,\"#fdca26\"],[1.0,\"#f0f921\"]],\"type\":\"heatmapgl\"}],\"histogram\":[{\"marker\":{\"pattern\":{\"fillmode\":\"overlay\",\"size\":10,\"solidity\":0.2}},\"type\":\"histogram\"}],\"histogram2d\":[{\"colorbar\":{\"outlinewidth\":0,\"ticks\":\"\"},\"colorscale\":[[0.0,\"#0d0887\"],[0.1111111111111111,\"#46039f\"],[0.2222222222222222,\"#7201a8\"],[0.3333333333333333,\"#9c179e\"],[0.4444444444444444,\"#bd3786\"],[0.5555555555555556,\"#d8576b\"],[0.6666666666666666,\"#ed7953\"],[0.7777777777777778,\"#fb9f3a\"],[0.8888888888888888,\"#fdca26\"],[1.0,\"#f0f921\"]],\"type\":\"histogram2d\"}],\"histogram2dcontour\":[{\"colorbar\":{\"outlinewidth\":0,\"ticks\":\"\"},\"colorscale\":[[0.0,\"#0d0887\"],[0.1111111111111111,\"#46039f\"],[0.2222222222222222,\"#7201a8\"],[0.3333333333333333,\"#9c179e\"],[0.4444444444444444,\"#bd3786\"],[0.5555555555555556,\"#d8576b\"],[0.6666666666666666,\"#ed7953\"],[0.7777777777777778,\"#fb9f3a\"],[0.8888888888888888,\"#fdca26\"],[1.0,\"#f0f921\"]],\"type\":\"histogram2dcontour\"}],\"mesh3d\":[{\"colorbar\":{\"outlinewidth\":0,\"ticks\":\"\"},\"type\":\"mesh3d\"}],\"parcoords\":[{\"line\":{\"colorbar\":{\"outlinewidth\":0,\"ticks\":\"\"}},\"type\":\"parcoords\"}],\"pie\":[{\"automargin\":true,\"type\":\"pie\"}],\"scatter\":[{\"marker\":{\"colorbar\":{\"outlinewidth\":0,\"ticks\":\"\"}},\"type\":\"scatter\"}],\"scatter3d\":[{\"line\":{\"colorbar\":{\"outlinewidth\":0,\"ticks\":\"\"}},\"marker\":{\"colorbar\":{\"outlinewidth\":0,\"ticks\":\"\"}},\"type\":\"scatter3d\"}],\"scattercarpet\":[{\"marker\":{\"colorbar\":{\"outlinewidth\":0,\"ticks\":\"\"}},\"type\":\"scattercarpet\"}],\"scattergeo\":[{\"marker\":{\"colorbar\":{\"outlinewidth\":0,\"ticks\":\"\"}},\"type\":\"scattergeo\"}],\"scattergl\":[{\"marker\":{\"colorbar\":{\"outlinewidth\":0,\"ticks\":\"\"}},\"type\":\"scattergl\"}],\"scattermapbox\":[{\"marker\":{\"colorbar\":{\"outlinewidth\":0,\"ticks\":\"\"}},\"type\":\"scattermapbox\"}],\"scatterpolar\":[{\"marker\":{\"colorbar\":{\"outlinewidth\":0,\"ticks\":\"\"}},\"type\":\"scatterpolar\"}],\"scatterpolargl\":[{\"marker\":{\"colorbar\":{\"outlinewidth\":0,\"ticks\":\"\"}},\"type\":\"scatterpolargl\"}],\"scatterternary\":[{\"marker\":{\"colorbar\":{\"outlinewidth\":0,\"ticks\":\"\"}},\"type\":\"scatterternary\"}],\"surface\":[{\"colorbar\":{\"outlinewidth\":0,\"ticks\":\"\"},\"colorscale\":[[0.0,\"#0d0887\"],[0.1111111111111111,\"#46039f\"],[0.2222222222222222,\"#7201a8\"],[0.3333333333333333,\"#9c179e\"],[0.4444444444444444,\"#bd3786\"],[0.5555555555555556,\"#d8576b\"],[0.6666666666666666,\"#ed7953\"],[0.7777777777777778,\"#fb9f3a\"],[0.8888888888888888,\"#fdca26\"],[1.0,\"#f0f921\"]],\"type\":\"surface\"}],\"table\":[{\"cells\":{\"fill\":{\"color\":\"#EBF0F8\"},\"line\":{\"color\":\"white\"}},\"header\":{\"fill\":{\"color\":\"#C8D4E3\"},\"line\":{\"color\":\"white\"}},\"type\":\"table\"}]},\"layout\":{\"annotationdefaults\":{\"arrowcolor\":\"#2a3f5f\",\"arrowhead\":0,\"arrowwidth\":1},\"autotypenumbers\":\"strict\",\"coloraxis\":{\"colorbar\":{\"outlinewidth\":0,\"ticks\":\"\"}},\"colorscale\":{\"diverging\":[[0,\"#8e0152\"],[0.1,\"#c51b7d\"],[0.2,\"#de77ae\"],[0.3,\"#f1b6da\"],[0.4,\"#fde0ef\"],[0.5,\"#f7f7f7\"],[0.6,\"#e6f5d0\"],[0.7,\"#b8e186\"],[0.8,\"#7fbc41\"],[0.9,\"#4d9221\"],[1,\"#276419\"]],\"sequential\":[[0.0,\"#0d0887\"],[0.1111111111111111,\"#46039f\"],[0.2222222222222222,\"#7201a8\"],[0.3333333333333333,\"#9c179e\"],[0.4444444444444444,\"#bd3786\"],[0.5555555555555556,\"#d8576b\"],[0.6666666666666666,\"#ed7953\"],[0.7777777777777778,\"#fb9f3a\"],[0.8888888888888888,\"#fdca26\"],[1.0,\"#f0f921\"]],\"sequentialminus\":[[0.0,\"#0d0887\"],[0.1111111111111111,\"#46039f\"],[0.2222222222222222,\"#7201a8\"],[0.3333333333333333,\"#9c179e\"],[0.4444444444444444,\"#bd3786\"],[0.5555555555555556,\"#d8576b\"],[0.6666666666666666,\"#ed7953\"],[0.7777777777777778,\"#fb9f3a\"],[0.8888888888888888,\"#fdca26\"],[1.0,\"#f0f921\"]]},\"colorway\":[\"#636efa\",\"#EF553B\",\"#00cc96\",\"#ab63fa\",\"#FFA15A\",\"#19d3f3\",\"#FF6692\",\"#B6E880\",\"#FF97FF\",\"#FECB52\"],\"font\":{\"color\":\"#2a3f5f\"},\"geo\":{\"bgcolor\":\"white\",\"lakecolor\":\"white\",\"landcolor\":\"#E5ECF6\",\"showlakes\":true,\"showland\":true,\"subunitcolor\":\"white\"},\"hoverlabel\":{\"align\":\"left\"},\"hovermode\":\"closest\",\"mapbox\":{\"style\":\"light\"},\"paper_bgcolor\":\"white\",\"plot_bgcolor\":\"#E5ECF6\",\"polar\":{\"angularaxis\":{\"gridcolor\":\"white\",\"linecolor\":\"white\",\"ticks\":\"\"},\"bgcolor\":\"#E5ECF6\",\"radialaxis\":{\"gridcolor\":\"white\",\"linecolor\":\"white\",\"ticks\":\"\"}},\"scene\":{\"xaxis\":{\"backgroundcolor\":\"#E5ECF6\",\"gridcolor\":\"white\",\"gridwidth\":2,\"linecolor\":\"white\",\"showbackground\":true,\"ticks\":\"\",\"zerolinecolor\":\"white\"},\"yaxis\":{\"backgroundcolor\":\"#E5ECF6\",\"gridcolor\":\"white\",\"gridwidth\":2,\"linecolor\":\"white\",\"showbackground\":true,\"ticks\":\"\",\"zerolinecolor\":\"white\"},\"zaxis\":{\"backgroundcolor\":\"#E5ECF6\",\"gridcolor\":\"white\",\"gridwidth\":2,\"linecolor\":\"white\",\"showbackground\":true,\"ticks\":\"\",\"zerolinecolor\":\"white\"}},\"shapedefaults\":{\"line\":{\"color\":\"#2a3f5f\"}},\"ternary\":{\"aaxis\":{\"gridcolor\":\"white\",\"linecolor\":\"white\",\"ticks\":\"\"},\"baxis\":{\"gridcolor\":\"white\",\"linecolor\":\"white\",\"ticks\":\"\"},\"bgcolor\":\"#E5ECF6\",\"caxis\":{\"gridcolor\":\"white\",\"linecolor\":\"white\",\"ticks\":\"\"}},\"title\":{\"x\":0.05},\"xaxis\":{\"automargin\":true,\"gridcolor\":\"white\",\"linecolor\":\"white\",\"ticks\":\"\",\"title\":{\"standoff\":15},\"zerolinecolor\":\"white\",\"zerolinewidth\":2},\"yaxis\":{\"automargin\":true,\"gridcolor\":\"white\",\"linecolor\":\"white\",\"ticks\":\"\",\"title\":{\"standoff\":15},\"zerolinecolor\":\"white\",\"zerolinewidth\":2}}},\"title\":{\"text\":\"Machine Learning Model Selection Process\",\"x\":0.5,\"xanchor\":\"center\",\"y\":0.9,\"yanchor\":\"top\"}},                        {\"responsive\": true}                    ).then(function(){\n",
       "                            \n",
       "var gd = document.getElementById('591347a0-ee3b-45d7-b2d4-365d5f79be6d');\n",
       "var x = new MutationObserver(function (mutations, observer) {{\n",
       "        var display = window.getComputedStyle(gd).display;\n",
       "        if (!display || display === 'none') {{\n",
       "            console.log([gd, 'removed!']);\n",
       "            Plotly.purge(gd);\n",
       "            observer.disconnect();\n",
       "        }}\n",
       "}});\n",
       "\n",
       "// Listen for the removal of the full notebook cells\n",
       "var notebookContainer = gd.closest('#notebook-container');\n",
       "if (notebookContainer) {{\n",
       "    x.observe(notebookContainer, {childList: true});\n",
       "}}\n",
       "\n",
       "// Listen for the clearing of the current output cell\n",
       "var outputEl = gd.closest('.output');\n",
       "if (outputEl) {{\n",
       "    x.observe(outputEl, {childList: true});\n",
       "}}\n",
       "\n",
       "                        })                };                });            </script>        </div>"
      ]
     },
     "metadata": {},
     "output_type": "display_data"
    }
   ],
   "source": [
    "import plotly.graph_objects as go\n",
    "import plotly.express as px\n",
    "\n",
    "fig = go.Figure()\n",
    "#fig = go.Figure(go.Scatter()\n",
    "\n",
    "fig.update_layout(\n",
    "    title={\n",
    "        'text': \"Machine Learning Model Selection Process\",\n",
    "        'y':0.9,\n",
    "        'x':0.5,\n",
    "        'xanchor': 'center',\n",
    "        'yanchor': 'top'})\n",
    "\n",
    "fig.add_trace(go.Scatter(\n",
    "    x=[\"Attempt1: Linear Regression\", \"Attempt 2: Random Forest Classifier\", \"Attempt 3: Random Forest with expanded data\",\"Attempt 4: Easy Ensemble Classifier\" , \"Attempt 5:Logistic Regression\", \"Final Model Selection: Random Forest\"],\n",
    "\n",
    "    y = [\"2021-09-05\", \"2021-09-08\", \"2021-09-12\", \"2021-09-15\", \"2021-09-19\", \"2021-09-20\"],\n",
    "    hovertext=[\"Linear Regression Model produced only 1% accuracy\", \"Random Forest Classifier improved accuracy to 43%\", \"Accuracy further improved to 58% then 61% by expanding data\", \"Easy Ensemble Classifier improved accuracy to 63% but long run time was not worth the improvement\", \"Logistic Regression Model improved accuracy to 86% but model was overfitting data\", \"Settled on Random Forest Model because of accuracy and overall ease of use \"],\n",
    "    hoverinfo=\"text\",\n",
    "    marker=dict(\n",
    "        color=\"blue\"\n",
    "\n",
    "    ),\n",
    "    showlegend=False\n",
    "    \n",
    "\n",
    "))\n",
    "\n",
    "fig.show()\n",
    "\n"
   ]
  },
  {
   "cell_type": "code",
   "execution_count": null,
   "metadata": {},
   "outputs": [],
   "source": []
  }
 ],
 "metadata": {
  "kernelspec": {
   "display_name": "mlenv",
   "language": "python",
   "name": "mlenv"
  },
  "language_info": {
   "codemirror_mode": {
    "name": "ipython",
    "version": 3
   },
   "file_extension": ".py",
   "mimetype": "text/x-python",
   "name": "python",
   "nbconvert_exporter": "python",
   "pygments_lexer": "ipython3",
   "version": "3.8.5"
  }
 },
 "nbformat": 4,
 "nbformat_minor": 4
}
