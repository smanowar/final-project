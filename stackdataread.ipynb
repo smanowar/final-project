{
 "cells": [
  {
   "cell_type": "code",
   "execution_count": 20,
   "metadata": {},
   "outputs": [],
   "source": [
    "from google.cloud import bigquery\n"
   ]
  },
  {
   "cell_type": "code",
   "execution_count": 21,
   "metadata": {},
   "outputs": [
    {
     "ename": "SyntaxError",
     "evalue": "invalid syntax (<ipython-input-21-32c969e8a2da>, line 1)",
     "output_type": "error",
     "traceback": [
      "\u001b[0;36m  File \u001b[0;32m\"<ipython-input-21-32c969e8a2da>\"\u001b[0;36m, line \u001b[0;32m1\u001b[0m\n\u001b[0;31m    export GOOGLE_APPLICATION_CREDENTIALS=\"client_secret.json\"\u001b[0m\n\u001b[0m           ^\u001b[0m\n\u001b[0;31mSyntaxError\u001b[0m\u001b[0;31m:\u001b[0m invalid syntax\n"
     ]
    }
   ],
   "source": [
    "export GOOGLE_APPLICATION_CREDENTIALS=\"client_secret.json\""
   ]
  },
  {
   "cell_type": "code",
   "execution_count": 2,
   "metadata": {},
   "outputs": [],
   "source": [
    "client = bigquery.Client()\n"
   ]
  },
  {
   "cell_type": "code",
   "execution_count": 12,
   "metadata": {},
   "outputs": [],
   "source": [
    "hn_dataset_ref = client.dataset('stackoverflow', project='bigquery-public-data')"
   ]
  },
  {
   "cell_type": "code",
   "execution_count": 13,
   "metadata": {},
   "outputs": [
    {
     "data": {
      "text/plain": [
       "google.cloud.bigquery.dataset.DatasetReference"
      ]
     },
     "execution_count": 13,
     "metadata": {},
     "output_type": "execute_result"
    }
   ],
   "source": [
    "type(hn_dataset_ref)"
   ]
  },
  {
   "cell_type": "code",
   "execution_count": 14,
   "metadata": {},
   "outputs": [],
   "source": [
    "hn_dset = client.get_dataset(hn_dataset_ref)"
   ]
  },
  {
   "cell_type": "code",
   "execution_count": 15,
   "metadata": {},
   "outputs": [
    {
     "data": {
      "text/plain": [
       "google.cloud.bigquery.dataset.Dataset"
      ]
     },
     "execution_count": 15,
     "metadata": {},
     "output_type": "execute_result"
    }
   ],
   "source": [
    "type(hn_dset)"
   ]
  },
  {
   "cell_type": "code",
   "execution_count": 18,
   "metadata": {},
   "outputs": [
    {
     "data": {
      "text/plain": [
       "['badges',\n",
       " 'comments',\n",
       " 'post_history',\n",
       " 'post_links',\n",
       " 'posts_answers',\n",
       " 'posts_moderator_nomination',\n",
       " 'posts_orphaned_tag_wiki',\n",
       " 'posts_privilege_wiki',\n",
       " 'posts_questions',\n",
       " 'posts_tag_wiki',\n",
       " 'posts_tag_wiki_excerpt',\n",
       " 'posts_wiki_placeholder',\n",
       " 'stackoverflow_posts',\n",
       " 'tags',\n",
       " 'users',\n",
       " 'votes']"
      ]
     },
     "execution_count": 18,
     "metadata": {},
     "output_type": "execute_result"
    }
   ],
   "source": [
    "[x.table_id for x in client.list_tables(hn_dset)]"
   ]
  },
  {
   "cell_type": "code",
   "execution_count": 25,
   "metadata": {},
   "outputs": [],
   "source": [
    "#hn_full = client.get_table()"
   ]
  },
  {
   "cell_type": "code",
   "execution_count": 9,
   "metadata": {},
   "outputs": [
    {
     "data": {
      "text/plain": [
       "google.cloud.bigquery.table.Table"
      ]
     },
     "execution_count": 9,
     "metadata": {},
     "output_type": "execute_result"
    }
   ],
   "source": [
    "type(hn_full)"
   ]
  },
  {
   "cell_type": "code",
   "execution_count": 10,
   "metadata": {},
   "outputs": [
    {
     "data": {
      "text/plain": [
       "['clustering_fields',\n",
       " 'created',\n",
       " 'dataset_id',\n",
       " 'description',\n",
       " 'encryption_configuration',\n",
       " 'etag',\n",
       " 'expires',\n",
       " 'external_data_configuration',\n",
       " 'friendly_name',\n",
       " 'from_api_repr',\n",
       " 'from_string',\n",
       " 'full_table_id',\n",
       " 'labels',\n",
       " 'location',\n",
       " 'modified',\n",
       " 'mview_enable_refresh',\n",
       " 'mview_last_refresh_time',\n",
       " 'mview_query',\n",
       " 'mview_refresh_interval',\n",
       " 'num_bytes',\n",
       " 'num_rows',\n",
       " 'partition_expiration',\n",
       " 'partitioning_type',\n",
       " 'path',\n",
       " 'project',\n",
       " 'range_partitioning',\n",
       " 'reference',\n",
       " 'require_partition_filter',\n",
       " 'schema',\n",
       " 'self_link',\n",
       " 'snapshot_definition',\n",
       " 'streaming_buffer',\n",
       " 'table_id',\n",
       " 'table_type',\n",
       " 'time_partitioning',\n",
       " 'to_api_repr',\n",
       " 'to_bqstorage',\n",
       " 'view_query',\n",
       " 'view_use_legacy_sql']"
      ]
     },
     "execution_count": 10,
     "metadata": {},
     "output_type": "execute_result"
    }
   ],
   "source": [
    "[command for command in dir(hn_full) if not command.startswith('_')]"
   ]
  },
  {
   "cell_type": "code",
   "execution_count": 24,
   "metadata": {},
   "outputs": [
    {
     "name": "stdout",
     "output_type": "stream",
     "text": [
      "https://stackoverflow.com/questions/35159967 : 98375 views\n",
      "https://stackoverflow.com/questions/22879669 : 93709 views\n",
      "https://stackoverflow.com/questions/10604135 : 92234 views\n",
      "https://stackoverflow.com/questions/27060396 : 74756 views\n",
      "https://stackoverflow.com/questions/11057219 : 68921 views\n",
      "https://stackoverflow.com/questions/39919815 : 65786 views\n",
      "https://stackoverflow.com/questions/39109817 : 65344 views\n",
      "https://stackoverflow.com/questions/44564887 : 65259 views\n",
      "https://stackoverflow.com/questions/12482637 : 62475 views\n",
      "https://stackoverflow.com/questions/16609219 : 62076 views\n"
     ]
    }
   ],
   "source": [
    "query_job = client.query(\n",
    "        \"\"\"\n",
    "        SELECT\n",
    "          CONCAT(\n",
    "            'https://stackoverflow.com/questions/',\n",
    "            CAST(id as STRING)) as url,\n",
    "          view_count\n",
    "        FROM `bigquery-public-data.stackoverflow.posts_questions`\n",
    "        WHERE tags like '%google-bigquery%'\n",
    "        ORDER BY view_count DESC\n",
    "        LIMIT 10\"\"\"\n",
    "    )\n",
    "\n",
    "results = query_job.result()  # Waits for job to complete.\n",
    "    # [END bigquery_simple_app_query]\n",
    "\n",
    "    # [START bigquery_simple_app_print]\n",
    "for row in results:\n",
    "    print(\"{} : {} views\".format(row.url, row.view_count))"
   ]
  },
  {
   "cell_type": "code",
   "execution_count": null,
   "metadata": {},
   "outputs": [],
   "source": []
  }
 ],
 "metadata": {
  "kernelspec": {
   "display_name": "Python 3",
   "language": "python",
   "name": "python3"
  },
  "language_info": {
   "codemirror_mode": {
    "name": "ipython",
    "version": 3
   },
   "file_extension": ".py",
   "mimetype": "text/x-python",
   "name": "python",
   "nbconvert_exporter": "python",
   "pygments_lexer": "ipython3",
   "version": "3.8.5"
  }
 },
 "nbformat": 4,
 "nbformat_minor": 4
}
