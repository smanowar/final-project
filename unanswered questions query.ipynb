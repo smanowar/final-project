{
 "cells": [
  {
   "cell_type": "code",
   "execution_count": 2,
   "metadata": {},
   "outputs": [],
   "source": [
    "# Import all needed libraries\n",
    "#! pip install google-cloud-bigquery\n",
    "from google.cloud import bigquery\n",
    "import pandas as pd\n",
    "import numpy as np\n",
    "import re\n",
    "from sqlalchemy import create_engine\n",
    "#from config import db_password"
   ]
  },
  {
   "cell_type": "code",
   "execution_count": 3,
   "metadata": {},
   "outputs": [],
   "source": [
    "import os\n",
    "os.environ[\"GOOGLE_APPLICATION_CREDENTIALS\"]=\"client_secret.json\""
   ]
  },
  {
   "cell_type": "code",
   "execution_count": 4,
   "metadata": {},
   "outputs": [],
   "source": [
    "client = bigquery.Client()"
   ]
  },
  {
   "cell_type": "code",
   "execution_count": 5,
   "metadata": {},
   "outputs": [
    {
     "data": {
      "text/plain": [
       "DatasetReference('bigquery-public-data', 'stackoverflow')"
      ]
     },
     "execution_count": 5,
     "metadata": {},
     "output_type": "execute_result"
    }
   ],
   "source": [
    "hn_dataset_ref = client.dataset('stackoverflow', project='bigquery-public-data')\n",
    "hn_dataset_ref"
   ]
  },
  {
   "cell_type": "code",
   "execution_count": 6,
   "metadata": {},
   "outputs": [
    {
     "data": {
      "text/plain": [
       "google.cloud.bigquery.dataset.DatasetReference"
      ]
     },
     "execution_count": 6,
     "metadata": {},
     "output_type": "execute_result"
    }
   ],
   "source": [
    "type(hn_dataset_ref)"
   ]
  },
  {
   "cell_type": "code",
   "execution_count": 7,
   "metadata": {},
   "outputs": [
    {
     "data": {
      "text/plain": [
       "Dataset(DatasetReference('bigquery-public-data', 'stackoverflow'))"
      ]
     },
     "execution_count": 7,
     "metadata": {},
     "output_type": "execute_result"
    }
   ],
   "source": [
    "hn_dset = client.get_dataset(hn_dataset_ref)\n",
    "hn_dset"
   ]
  },
  {
   "cell_type": "code",
   "execution_count": 8,
   "metadata": {},
   "outputs": [
    {
     "data": {
      "text/plain": [
       "google.cloud.bigquery.dataset.Dataset"
      ]
     },
     "execution_count": 8,
     "metadata": {},
     "output_type": "execute_result"
    }
   ],
   "source": [
    "type(hn_dset)"
   ]
  },
  {
   "cell_type": "code",
   "execution_count": 9,
   "metadata": {},
   "outputs": [
    {
     "data": {
      "text/plain": [
       "['badges',\n",
       " 'comments',\n",
       " 'post_history',\n",
       " 'post_links',\n",
       " 'posts_answers',\n",
       " 'posts_moderator_nomination',\n",
       " 'posts_orphaned_tag_wiki',\n",
       " 'posts_privilege_wiki',\n",
       " 'posts_questions',\n",
       " 'posts_tag_wiki',\n",
       " 'posts_tag_wiki_excerpt',\n",
       " 'posts_wiki_placeholder',\n",
       " 'stackoverflow_posts',\n",
       " 'tags',\n",
       " 'users',\n",
       " 'votes']"
      ]
     },
     "execution_count": 9,
     "metadata": {},
     "output_type": "execute_result"
    }
   ],
   "source": [
    "[x.table_id for x in client.list_tables(hn_dset)]"
   ]
  },
  {
   "cell_type": "code",
   "execution_count": 1,
   "metadata": {},
   "outputs": [
    {
     "ename": "NameError",
     "evalue": "name 'client' is not defined",
     "output_type": "error",
     "traceback": [
      "\u001b[0;31m---------------------------------------------------------------------------\u001b[0m",
      "\u001b[0;31mNameError\u001b[0m                                 Traceback (most recent call last)",
      "\u001b[0;32m<ipython-input-1-049b2c2d50fd>\u001b[0m in \u001b[0;36m<module>\u001b[0;34m\u001b[0m\n\u001b[1;32m      1\u001b[0m \u001b[0;31m# Exploring data in posts_questions by not answered v. answered\u001b[0m\u001b[0;34m\u001b[0m\u001b[0;34m\u001b[0m\u001b[0;34m\u001b[0m\u001b[0m\n\u001b[1;32m      2\u001b[0m \u001b[0;34m\u001b[0m\u001b[0m\n\u001b[0;32m----> 3\u001b[0;31m \u001b[0mhn_full\u001b[0m \u001b[0;34m=\u001b[0m \u001b[0mclient\u001b[0m\u001b[0;34m.\u001b[0m\u001b[0mget_table\u001b[0m\u001b[0;34m(\u001b[0m\u001b[0mtable\u001b[0m\u001b[0;34m=\u001b[0m\u001b[0;34m'bigquery-public-data.stackoverflow.posts_questions'\u001b[0m\u001b[0;34m)\u001b[0m\u001b[0;34m\u001b[0m\u001b[0;34m\u001b[0m\u001b[0m\n\u001b[0m\u001b[1;32m      4\u001b[0m query_job = client.query(\n\u001b[1;32m      5\u001b[0m         \"\"\"\n",
      "\u001b[0;31mNameError\u001b[0m: name 'client' is not defined"
     ]
    }
   ],
   "source": [
    "# Exploring data in posts_questions by not answered v. answered\n",
    "\n",
    "hn_full = client.get_table(table='bigquery-public-data.stackoverflow.posts_questions')\n",
    "query_job = client.query(\n",
    "        \"\"\"\n",
    "        SELECT\n",
    "        id, title, body, accepted_answer_id, answer_count, creation_date, favorite_count, score, tags, view_count\n",
    "        FROM `bigquery-public-data.stackoverflow.posts_questions`\n",
    "        WHERE answer_count is not null AND creation_date > '2021-01-01'\n",
    "        ORDER BY answer_count\n",
    "        \"\"\"\n",
    "    )\n",
    "\n",
    "results = query_job.result() \n",
    "results_list = [row for row in results]\n",
    "cols = ['q_id', 'q_title', 'q_body', 'accepted_answer_id', 'answer_count', 'q_creation_date', 'q_favorite_count', 'q_score', 'q_tags', 'q_view_count']\n",
    "posts_questions_df = pd.DataFrame.from_records(results_list, columns=cols)\n",
    "posts_questions_df"
   ]
  },
  {
   "cell_type": "code",
   "execution_count": 50,
   "metadata": {},
   "outputs": [
    {
     "data": {
      "text/html": [
       "<div>\n",
       "<style scoped>\n",
       "    .dataframe tbody tr th:only-of-type {\n",
       "        vertical-align: middle;\n",
       "    }\n",
       "\n",
       "    .dataframe tbody tr th {\n",
       "        vertical-align: top;\n",
       "    }\n",
       "\n",
       "    .dataframe thead th {\n",
       "        text-align: right;\n",
       "    }\n",
       "</style>\n",
       "<table border=\"1\" class=\"dataframe\">\n",
       "  <thead>\n",
       "    <tr style=\"text-align: right;\">\n",
       "      <th></th>\n",
       "      <th>q_id</th>\n",
       "      <th>q_title</th>\n",
       "      <th>q_body</th>\n",
       "      <th>accepted_answer_id</th>\n",
       "      <th>answer_count</th>\n",
       "      <th>q_creation_date</th>\n",
       "      <th>q_favorite_count</th>\n",
       "      <th>q_score</th>\n",
       "      <th>q_tags</th>\n",
       "      <th>q_view_count</th>\n",
       "    </tr>\n",
       "  </thead>\n",
       "  <tbody>\n",
       "  </tbody>\n",
       "</table>\n",
       "</div>"
      ],
      "text/plain": [
       "Empty DataFrame\n",
       "Columns: [q_id, q_title, q_body, accepted_answer_id, answer_count, q_creation_date, q_favorite_count, q_score, q_tags, q_view_count]\n",
       "Index: []"
      ]
     },
     "execution_count": 50,
     "metadata": {},
     "output_type": "execute_result"
    }
   ],
   "source": [
    "# Extract data for May 2021 for posts without answers\n",
    "#hn_full = client.get_table(table='bigquery-public-data.stackoverflow.posts_questions')\n",
    "#query_job = client.query(\n",
    "        #\"\"\"\n",
    "        #SELECT\n",
    "        #id, title, body, accepted_answer_id, answer_count, creation_date, favorite_count, score, tags, view_count\n",
    "        #FROM `bigquery-public-data.stackoverflow.posts_questions`\n",
    "        #WHERE answer_count is null AND creation_date > '2021-01-01'\n",
    "        #ORDER BY answer_count\n",
    "        #LIMIT 10\"\"\"\n",
    "    #)\n",
    "\n",
    "#results = query_job.result() \n",
    "#results_list = [row for row in results]\n",
    "#cols = ['q_id', 'q_title', 'q_body', 'accepted_answer_id', 'answer_count', 'q_creation_date', 'q_favorite_count', 'q_score', 'q_tags', 'q_view_count']\n",
    "#unanswered_posts_questions_df = pd.DataFrame.from_records(results_list, columns=cols)\n",
    "#unanswered_posts_questions_df\n",
    "\n"
   ]
  },
  {
   "cell_type": "code",
   "execution_count": 12,
   "metadata": {},
   "outputs": [
    {
     "data": {
      "text/plain": [
       "q_id                                int64\n",
       "q_title                            object\n",
       "q_body                             object\n",
       "accepted_answer_id                float64\n",
       "answer_count                        int64\n",
       "q_creation_date       datetime64[ns, UTC]\n",
       "q_favorite_count                  float64\n",
       "q_score                             int64\n",
       "q_tags                             object\n",
       "q_view_count                        int64\n",
       "dtype: object"
      ]
     },
     "execution_count": 12,
     "metadata": {},
     "output_type": "execute_result"
    }
   ],
   "source": [
    "# Determine data types for posts_questions_df\n",
    "posts_questions_df.dtypes"
   ]
  },
  {
   "cell_type": "code",
   "execution_count": 13,
   "metadata": {},
   "outputs": [
    {
     "data": {
      "text/plain": [
       "1357455"
      ]
     },
     "execution_count": 13,
     "metadata": {},
     "output_type": "execute_result"
    }
   ],
   "source": [
    "len(posts_questions_df)"
   ]
  },
  {
   "cell_type": "code",
   "execution_count": 14,
   "metadata": {},
   "outputs": [],
   "source": [
    "# Determine number of answers\n",
    "#posts_questions_df.groupby('answer_count').count()\n"
   ]
  },
  {
   "cell_type": "code",
   "execution_count": 15,
   "metadata": {},
   "outputs": [
    {
     "name": "stdout",
     "output_type": "stream",
     "text": [
      "26\n",
      "0\n"
     ]
    }
   ],
   "source": [
    "print(posts_questions_df[\"answer_count\"].max())\n",
    "print(posts_questions_df[\"answer_count\"].min())"
   ]
  },
  {
   "cell_type": "code",
   "execution_count": 16,
   "metadata": {},
   "outputs": [],
   "source": [
    "# Bin answer count\n",
    "answer_count_bins = [0,30]\n",
    "answer_count_labels = [\"good question (>0 answers)\"]\n"
   ]
  },
  {
   "cell_type": "code",
   "execution_count": 17,
   "metadata": {},
   "outputs": [
    {
     "ename": "SyntaxError",
     "evalue": "unexpected EOF while parsing (<ipython-input-17-387542cdedbf>, line 3)",
     "output_type": "error",
     "traceback": [
      "\u001b[0;36m  File \u001b[0;32m\"<ipython-input-17-387542cdedbf>\"\u001b[0;36m, line \u001b[0;32m3\u001b[0m\n\u001b[0;31m    \u001b[0m\n\u001b[0m    ^\u001b[0m\n\u001b[0;31mSyntaxError\u001b[0m\u001b[0;31m:\u001b[0m unexpected EOF while parsing\n"
     ]
    }
   ],
   "source": [
    "#slice and bin answers\n",
    "pd.cut(post_questions_df['answer_count'](labels=answer_count_labels).head()\n",
    "                                        \n"
   ]
  },
  {
   "cell_type": "code",
   "execution_count": 18,
   "metadata": {},
   "outputs": [
    {
     "data": {
      "text/html": [
       "<div>\n",
       "<style scoped>\n",
       "    .dataframe tbody tr th:only-of-type {\n",
       "        vertical-align: middle;\n",
       "    }\n",
       "\n",
       "    .dataframe tbody tr th {\n",
       "        vertical-align: top;\n",
       "    }\n",
       "\n",
       "    .dataframe thead th {\n",
       "        text-align: right;\n",
       "    }\n",
       "</style>\n",
       "<table border=\"1\" class=\"dataframe\">\n",
       "  <thead>\n",
       "    <tr style=\"text-align: right;\">\n",
       "      <th></th>\n",
       "      <th>q_id</th>\n",
       "      <th>q_title</th>\n",
       "      <th>q_body</th>\n",
       "      <th>accepted_answer_id</th>\n",
       "      <th>answer_count</th>\n",
       "      <th>q_creation_date</th>\n",
       "      <th>q_favorite_count</th>\n",
       "      <th>q_score</th>\n",
       "      <th>q_tags</th>\n",
       "      <th>q_view_count</th>\n",
       "      <th>Answer Group</th>\n",
       "    </tr>\n",
       "  </thead>\n",
       "  <tbody>\n",
       "    <tr>\n",
       "      <th>0</th>\n",
       "      <td>68346458</td>\n",
       "      <td>Sort table by price</td>\n",
       "      <td>&lt;p&gt;I am having some problems sorting this &lt;cod...</td>\n",
       "      <td>NaN</td>\n",
       "      <td>0</td>\n",
       "      <td>2021-07-12 11:18:33.270000+00:00</td>\n",
       "      <td>NaN</td>\n",
       "      <td>0</td>\n",
       "      <td>woocommerce|dokan</td>\n",
       "      <td>19</td>\n",
       "      <td>NaN</td>\n",
       "    </tr>\n",
       "    <tr>\n",
       "      <th>1</th>\n",
       "      <td>68128542</td>\n",
       "      <td>Webdriver IO with Mocha - Why do I not get a s...</td>\n",
       "      <td>&lt;p&gt;I am using webdriver IO with mocha.&lt;/p&gt;\\n&lt;p...</td>\n",
       "      <td>NaN</td>\n",
       "      <td>0</td>\n",
       "      <td>2021-06-25 09:19:05.453000+00:00</td>\n",
       "      <td>NaN</td>\n",
       "      <td>0</td>\n",
       "      <td>mocha.js|webdriver-io</td>\n",
       "      <td>20</td>\n",
       "      <td>NaN</td>\n",
       "    </tr>\n",
       "    <tr>\n",
       "      <th>2</th>\n",
       "      <td>68339591</td>\n",
       "      <td>Single button click so that Angular kendo grid...</td>\n",
       "      <td>&lt;p&gt;Is it possible that an angular master detai...</td>\n",
       "      <td>NaN</td>\n",
       "      <td>0</td>\n",
       "      <td>2021-07-11 20:03:27.790000+00:00</td>\n",
       "      <td>NaN</td>\n",
       "      <td>0</td>\n",
       "      <td>angular|kendo-grid|master-detail</td>\n",
       "      <td>20</td>\n",
       "      <td>NaN</td>\n",
       "    </tr>\n",
       "    <tr>\n",
       "      <th>3</th>\n",
       "      <td>68225581</td>\n",
       "      <td>Multiple authors in Rmarkdown ioslides_present...</td>\n",
       "      <td>&lt;p&gt;I want to add two authors in my Rmarkdown p...</td>\n",
       "      <td>NaN</td>\n",
       "      <td>0</td>\n",
       "      <td>2021-07-02 12:53:34.307000+00:00</td>\n",
       "      <td>NaN</td>\n",
       "      <td>0</td>\n",
       "      <td>r-markdown</td>\n",
       "      <td>21</td>\n",
       "      <td>NaN</td>\n",
       "    </tr>\n",
       "    <tr>\n",
       "      <th>4</th>\n",
       "      <td>68387017</td>\n",
       "      <td>Add new plugin - cannot be added after `Amplif...</td>\n",
       "      <td>&lt;p&gt;I'm storing the user data locally using Dat...</td>\n",
       "      <td>NaN</td>\n",
       "      <td>0</td>\n",
       "      <td>2021-07-15 02:04:55.197000+00:00</td>\n",
       "      <td>NaN</td>\n",
       "      <td>0</td>\n",
       "      <td>amazon-web-services|aws-sdk|aws-amplify|amplif...</td>\n",
       "      <td>21</td>\n",
       "      <td>NaN</td>\n",
       "    </tr>\n",
       "    <tr>\n",
       "      <th>...</th>\n",
       "      <td>...</td>\n",
       "      <td>...</td>\n",
       "      <td>...</td>\n",
       "      <td>...</td>\n",
       "      <td>...</td>\n",
       "      <td>...</td>\n",
       "      <td>...</td>\n",
       "      <td>...</td>\n",
       "      <td>...</td>\n",
       "      <td>...</td>\n",
       "      <td>...</td>\n",
       "    </tr>\n",
       "    <tr>\n",
       "      <th>1357450</th>\n",
       "      <td>67191286</td>\n",
       "      <td>Crbug/1173575, non-JS module files deprecated....</td>\n",
       "      <td>&lt;p&gt;I just created new project and have run it ...</td>\n",
       "      <td>NaN</td>\n",
       "      <td>20</td>\n",
       "      <td>2021-04-21 07:37:43.460000+00:00</td>\n",
       "      <td>6.0</td>\n",
       "      <td>24</td>\n",
       "      <td>angular</td>\n",
       "      <td>128049</td>\n",
       "      <td>good question (&gt;0 answers)</td>\n",
       "    </tr>\n",
       "    <tr>\n",
       "      <th>1357451</th>\n",
       "      <td>68387270</td>\n",
       "      <td>Android Studio error \"Installed Build Tools re...</td>\n",
       "      <td>&lt;p&gt;I'm on Android Studio 4.2.2. I created a ne...</td>\n",
       "      <td>68397108.0</td>\n",
       "      <td>22</td>\n",
       "      <td>2021-07-15 02:45:41.303000+00:00</td>\n",
       "      <td>30.0</td>\n",
       "      <td>153</td>\n",
       "      <td>android|android-studio|android-emulator|androi...</td>\n",
       "      <td>93510</td>\n",
       "      <td>good question (&gt;0 answers)</td>\n",
       "    </tr>\n",
       "    <tr>\n",
       "      <th>1357452</th>\n",
       "      <td>69021225</td>\n",
       "      <td>Resource linking fails on lStar</td>\n",
       "      <td>&lt;p&gt;I'm working on a React Native application. ...</td>\n",
       "      <td>69021606.0</td>\n",
       "      <td>23</td>\n",
       "      <td>2021-09-01 22:34:38.513000+00:00</td>\n",
       "      <td>2.0</td>\n",
       "      <td>64</td>\n",
       "      <td>android|react-native</td>\n",
       "      <td>9280</td>\n",
       "      <td>good question (&gt;0 answers)</td>\n",
       "    </tr>\n",
       "    <tr>\n",
       "      <th>1357453</th>\n",
       "      <td>68191392</td>\n",
       "      <td>Password authentication is temporarily disable...</td>\n",
       "      <td>&lt;p&gt;I was using a username password for pushing...</td>\n",
       "      <td>68192700.0</td>\n",
       "      <td>25</td>\n",
       "      <td>2021-06-30 08:45:37.097000+00:00</td>\n",
       "      <td>50.0</td>\n",
       "      <td>237</td>\n",
       "      <td>git|github|token|github-api|git-pull</td>\n",
       "      <td>95253</td>\n",
       "      <td>good question (&gt;0 answers)</td>\n",
       "    </tr>\n",
       "    <tr>\n",
       "      <th>1357454</th>\n",
       "      <td>68775869</td>\n",
       "      <td>Support for password authentication was remove...</td>\n",
       "      <td>&lt;p&gt;I got this error on my console when I tried...</td>\n",
       "      <td>NaN</td>\n",
       "      <td>26</td>\n",
       "      <td>2021-08-13 16:49:34.937000+00:00</td>\n",
       "      <td>125.0</td>\n",
       "      <td>389</td>\n",
       "      <td>git|github|token|github-api|git-pull</td>\n",
       "      <td>183390</td>\n",
       "      <td>good question (&gt;0 answers)</td>\n",
       "    </tr>\n",
       "  </tbody>\n",
       "</table>\n",
       "<p>1357455 rows × 11 columns</p>\n",
       "</div>"
      ],
      "text/plain": [
       "             q_id                                            q_title  \\\n",
       "0        68346458                                Sort table by price   \n",
       "1        68128542  Webdriver IO with Mocha - Why do I not get a s...   \n",
       "2        68339591  Single button click so that Angular kendo grid...   \n",
       "3        68225581  Multiple authors in Rmarkdown ioslides_present...   \n",
       "4        68387017  Add new plugin - cannot be added after `Amplif...   \n",
       "...           ...                                                ...   \n",
       "1357450  67191286  Crbug/1173575, non-JS module files deprecated....   \n",
       "1357451  68387270  Android Studio error \"Installed Build Tools re...   \n",
       "1357452  69021225                    Resource linking fails on lStar   \n",
       "1357453  68191392  Password authentication is temporarily disable...   \n",
       "1357454  68775869  Support for password authentication was remove...   \n",
       "\n",
       "                                                    q_body  \\\n",
       "0        <p>I am having some problems sorting this <cod...   \n",
       "1        <p>I am using webdriver IO with mocha.</p>\\n<p...   \n",
       "2        <p>Is it possible that an angular master detai...   \n",
       "3        <p>I want to add two authors in my Rmarkdown p...   \n",
       "4        <p>I'm storing the user data locally using Dat...   \n",
       "...                                                    ...   \n",
       "1357450  <p>I just created new project and have run it ...   \n",
       "1357451  <p>I'm on Android Studio 4.2.2. I created a ne...   \n",
       "1357452  <p>I'm working on a React Native application. ...   \n",
       "1357453  <p>I was using a username password for pushing...   \n",
       "1357454  <p>I got this error on my console when I tried...   \n",
       "\n",
       "         accepted_answer_id  answer_count                  q_creation_date  \\\n",
       "0                       NaN             0 2021-07-12 11:18:33.270000+00:00   \n",
       "1                       NaN             0 2021-06-25 09:19:05.453000+00:00   \n",
       "2                       NaN             0 2021-07-11 20:03:27.790000+00:00   \n",
       "3                       NaN             0 2021-07-02 12:53:34.307000+00:00   \n",
       "4                       NaN             0 2021-07-15 02:04:55.197000+00:00   \n",
       "...                     ...           ...                              ...   \n",
       "1357450                 NaN            20 2021-04-21 07:37:43.460000+00:00   \n",
       "1357451          68397108.0            22 2021-07-15 02:45:41.303000+00:00   \n",
       "1357452          69021606.0            23 2021-09-01 22:34:38.513000+00:00   \n",
       "1357453          68192700.0            25 2021-06-30 08:45:37.097000+00:00   \n",
       "1357454                 NaN            26 2021-08-13 16:49:34.937000+00:00   \n",
       "\n",
       "         q_favorite_count  q_score  \\\n",
       "0                     NaN        0   \n",
       "1                     NaN        0   \n",
       "2                     NaN        0   \n",
       "3                     NaN        0   \n",
       "4                     NaN        0   \n",
       "...                   ...      ...   \n",
       "1357450               6.0       24   \n",
       "1357451              30.0      153   \n",
       "1357452               2.0       64   \n",
       "1357453              50.0      237   \n",
       "1357454             125.0      389   \n",
       "\n",
       "                                                    q_tags  q_view_count  \\\n",
       "0                                        woocommerce|dokan            19   \n",
       "1                                    mocha.js|webdriver-io            20   \n",
       "2                         angular|kendo-grid|master-detail            20   \n",
       "3                                               r-markdown            21   \n",
       "4        amazon-web-services|aws-sdk|aws-amplify|amplif...            21   \n",
       "...                                                    ...           ...   \n",
       "1357450                                            angular        128049   \n",
       "1357451  android|android-studio|android-emulator|androi...         93510   \n",
       "1357452                               android|react-native          9280   \n",
       "1357453               git|github|token|github-api|git-pull         95253   \n",
       "1357454               git|github|token|github-api|git-pull        183390   \n",
       "\n",
       "                       Answer Group  \n",
       "0                               NaN  \n",
       "1                               NaN  \n",
       "2                               NaN  \n",
       "3                               NaN  \n",
       "4                               NaN  \n",
       "...                             ...  \n",
       "1357450  good question (>0 answers)  \n",
       "1357451  good question (>0 answers)  \n",
       "1357452  good question (>0 answers)  \n",
       "1357453  good question (>0 answers)  \n",
       "1357454  good question (>0 answers)  \n",
       "\n",
       "[1357455 rows x 11 columns]"
      ]
     },
     "execution_count": 18,
     "metadata": {},
     "output_type": "execute_result"
    }
   ],
   "source": [
    " # Place the data series into a new column inside of the DataFrame\n",
    "posts_questions_df[\"Answer Group\"] = pd.cut(posts_questions_df[\"answer_count\"], answer_count_bins, labels=answer_count_labels)\n",
    "posts_questions_df"
   ]
  },
  {
   "cell_type": "code",
   "execution_count": null,
   "metadata": {},
   "outputs": [],
   "source": []
  },
  {
   "cell_type": "markdown",
   "metadata": {},
   "source": [
    "## attempt model\n"
   ]
  },
  {
   "cell_type": "code",
   "execution_count": 19,
   "metadata": {},
   "outputs": [],
   "source": [
    "import warnings\n",
    "warnings.filterwarnings('ignore')\n",
    "import numpy as np\n",
    "import pandas as pd\n",
    "from pathlib import Path\n",
    "from collections import Counter\n",
    "from sklearn.metrics import balanced_accuracy_score\n",
    "from sklearn.metrics import confusion_matrix\n",
    "from imblearn.metrics import classification_report_imbalanced\n",
    "from sklearn.ensemble import RandomForestClassifier"
   ]
  },
  {
   "cell_type": "code",
   "execution_count": null,
   "metadata": {},
   "outputs": [],
   "source": [
    "# Create features\n",
    "X = posts_questions_df.drop('Answer Group', axis=1)\n",
    "X = pd.get_dummies(X)\n",
    "\n",
    "# Create our target\n",
    "y = posts_questions_df[\"Answer Group\"]\n",
    "\n",
    "X.head()"
   ]
  },
  {
   "cell_type": "code",
   "execution_count": null,
   "metadata": {},
   "outputs": [],
   "source": [
    "X.describe()"
   ]
  },
  {
   "cell_type": "code",
   "execution_count": null,
   "metadata": {},
   "outputs": [],
   "source": [
    "# Check the balance of our target values\n",
    "y.value_counts()"
   ]
  },
  {
   "cell_type": "code",
   "execution_count": null,
   "metadata": {},
   "outputs": [],
   "source": [
    "from sklearn.model_selection import train_test_split\n",
    "X_train, X_test, y_train, y_test = train_test_split(X,y,random_state=1,stratify=y)"
   ]
  },
  {
   "cell_type": "code",
   "execution_count": null,
   "metadata": {},
   "outputs": [],
   "source": []
  },
  {
   "cell_type": "code",
   "execution_count": null,
   "metadata": {},
   "outputs": [],
   "source": []
  }
 ],
 "metadata": {
  "kernelspec": {
   "display_name": "Python 3",
   "language": "python",
   "name": "python3"
  },
  "language_info": {
   "codemirror_mode": {
    "name": "ipython",
    "version": 3
   },
   "file_extension": ".py",
   "mimetype": "text/x-python",
   "name": "python",
   "nbconvert_exporter": "python",
   "pygments_lexer": "ipython3",
   "version": "3.8.5"
  }
 },
 "nbformat": 4,
 "nbformat_minor": 4
}
